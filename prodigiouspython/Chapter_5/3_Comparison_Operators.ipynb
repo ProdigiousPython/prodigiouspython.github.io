{
 "cells": [
  {
   "cell_type": "markdown",
   "id": "7b459ce3-2609-48df-8ee5-f06849468dc7",
   "metadata": {},
   "source": [
    "# Comparison operators"
   ]
  },
  {
   "cell_type": "markdown",
   "id": "5f27e14c-48b8-4b9d-8e25-2d8b221ddaf1",
   "metadata": {},
   "source": [
    "The comparison operators help to compare two objects. The comparison operators we have in Python are:"
   ]
  },
  {
   "cell_type": "markdown",
   "id": "b1dee787-a430-433e-8c79-889f16c65851",
   "metadata": {},
   "source": [
    "|Operator|Description                                                                                                    |\n",
    "|--------|---------------------------------------------------------------------------------------------------------------|\n",
    "|`==`      |Checks if the values of two operands are equal, if equal results `True`, else `False`                          |\n",
    "|`!=`      |Checks if the values of two operands are not equal, if not equal results `True`, else `False`                  |\n",
    "|`>`       |If the value of left operand is greater than right operand, then the result is `True`, else `False`            |\n",
    "|`>=`      |If the value of left operand is greater than or equal to right operand, then the result is `True`, else `False`|\n",
    "|`<`       |If the value of right operand is greater than left operand, then the result is `True`, else `False`            |\n",
    "|`<=`      |If the value of right operand is greater than or equal to left operand, then the result is `True`, else `False`|"
   ]
  },
  {
   "cell_type": "markdown",
   "id": "2120f602-4001-4be1-9ba0-cfeb03f751f1",
   "metadata": {},
   "source": [
    "If you are already familiar with any other programming language, then you might have already mingled with the above comparison operators. Apart from the above comparison operators, we have two more in Python:"
   ]
  },
  {
   "cell_type": "markdown",
   "id": "e3d905c3-c95c-46e3-990c-c756aceefc41",
   "metadata": {},
   "source": [
    "|Operator|Description                                                                            |\n",
    "|--------|---------------------------------------------------------------------------------------|\n",
    "|`is`    |Checks if both the operands are same object, if yes, result is `True`, else `False`    |\n",
    "|`is not`|Checks if both the operands are not same object, if yes, result is `True`, else `False`|"
   ]
  },
  {
   "cell_type": "markdown",
   "id": "06c2017f-82e9-4aca-bbcd-fba729eb1335",
   "metadata": {},
   "source": [
    "Time for a few examples on the above mentioned operators."
   ]
  },
  {
   "cell_type": "markdown",
   "id": "5a2f8d43-e52a-44d7-8ebf-3d892db9b030",
   "metadata": {},
   "source": [
    "## `==` comparison operator"
   ]
  },
  {
   "cell_type": "markdown",
   "id": "f3e3c5b6-fd8a-4c00-af11-a55a758193b4",
   "metadata": {},
   "source": [
    "The `==` operator checks if both the values of the operands are equal or not, if they are equal, it results in `True` else `False`."
   ]
  },
  {
   "cell_type": "code",
   "execution_count": null,
   "id": "4672c5a9-8745-4ad4-a388-6cc803f4aff1",
   "metadata": {},
   "outputs": [],
   "source": [
    "# True\n",
    "\n",
    "# integers\n",
    "print(8 == 8)\n",
    "print(5 == (1 + 4))\n",
    "\n",
    "# float\n",
    "print(0.3 == 0.30)\n",
    "\n",
    "# str\n",
    "print(\"🐍\" == \"🐍\")\n",
    "\n",
    "# tuple\n",
    "print((1, 2, 3, \"a\") == (1, 2, 3, \"a\"))\n",
    "\n",
    "# list\n",
    "print([1, 2, 3] == [1, 2, 3])"
   ]
  },
  {
   "cell_type": "code",
   "execution_count": null,
   "id": "ba943615-d67a-4422-aead-f19eb2f274ee",
   "metadata": {},
   "outputs": [],
   "source": [
    "# False\n",
    "\n",
    "# integers\n",
    "print(8 == 6)\n",
    "print(5 == (1 + 3))\n",
    "\n",
    "# float\n",
    "print(0.3 == 8.49)\n",
    "\n",
    "# str\n",
    "print(\"🐍\" == \"😬\")\n",
    "\n",
    "# tuple\n",
    "print((1, 2, 3, \"a\", \"b\") == (1, 2, 3, \"a\"))\n",
    "\n",
    "# list\n",
    "print([1, 2, 3] == [1, 2, 3, \"👻\"])"
   ]
  },
  {
   "cell_type": "markdown",
   "id": "4076ca09-90d0-436c-8940-b51976f84070",
   "metadata": {},
   "source": [
    "## `!=` comparison operator"
   ]
  },
  {
   "cell_type": "markdown",
   "id": "b0c90f97-c069-4f14-ae75-31b0203dee67",
   "metadata": {},
   "source": [
    "`!=` is not equal to operator, which works exactly opposite to the equal operator `==`."
   ]
  },
  {
   "cell_type": "markdown",
   "id": "e103ee60-dffd-4b32-9764-4d4918326c8f",
   "metadata": {},
   "source": [
    "If the values of the operands are not equal, then the result would be `True` else `False`."
   ]
  },
  {
   "cell_type": "code",
   "execution_count": null,
   "id": "be4f4167-907b-41e1-a51b-d3f919b8655e",
   "metadata": {},
   "outputs": [],
   "source": [
    "print(\"🐍\" != \"🐵\")\n",
    "print([\"🍕\", \"🎂\", \"🍿\"] != [\"🍺\", \"🍻\", \"🍷\"])"
   ]
  },
  {
   "cell_type": "markdown",
   "id": "f7bead09-c502-4ddc-89e3-23367c5a82cc",
   "metadata": {},
   "source": [
    "## `>` comparison operator"
   ]
  },
  {
   "cell_type": "markdown",
   "id": "8f1873b8-2377-42c8-aa26-fb26839d8ea2",
   "metadata": {},
   "source": [
    "`>` Operator checks if the left operand value is greater than that of the right operand, if greater results in `True` else `False`."
   ]
  },
  {
   "cell_type": "code",
   "execution_count": null,
   "id": "f42cdeb2-fbaf-4e89-81de-8afc0ae861ab",
   "metadata": {},
   "outputs": [],
   "source": [
    "# int\n",
    "print(8 > 6)"
   ]
  },
  {
   "cell_type": "markdown",
   "id": "3bafaf35-71ed-4ead-a805-9bd36cce5bf3",
   "metadata": {},
   "source": [
    "Comparison of float values works the same way 🍿."
   ]
  },
  {
   "cell_type": "code",
   "execution_count": null,
   "id": "33d69662-64f0-4122-a087-d0844ed79f70",
   "metadata": {},
   "outputs": [],
   "source": [
    "print(\"b\" > \"a\")"
   ]
  },
  {
   "cell_type": "markdown",
   "id": "d33a4087-1886-4850-926b-e285390240bf",
   "metadata": {},
   "source": [
    "We might think \"How the heck does string comparisons work 🤔?\" Well, the comparison of strings work lexicographically, which mean each character in the string is compared and based on the ASCII value of the character comparison takes place.."
   ]
  },
  {
   "cell_type": "markdown",
   "id": "0cef8b21-c13f-491c-aea8-bbb5058aa66d",
   "metadata": {},
   "source": [
    "`Example:`"
   ]
  },
  {
   "cell_type": "markdown",
   "id": "ed0a079d-4134-423e-9437-745b5b4c288b",
   "metadata": {},
   "source": [
    "`b` has higher ASCII value than `a`, that's the reason we saw the result as `True` in the above comparison."
   ]
  },
  {
   "cell_type": "markdown",
   "id": "3217631f-d434-4f08-9a1a-ca79ef154c90",
   "metadata": {},
   "source": [
    "One more 😬: "
   ]
  },
  {
   "cell_type": "code",
   "execution_count": null,
   "id": "d2a58c29-b78c-4195-959d-d701796e6ed8",
   "metadata": {},
   "outputs": [],
   "source": [
    "print(\"Hello\" > \"Hey\")"
   ]
  },
  {
   "cell_type": "markdown",
   "id": "8b0888fc-9ab3-42be-9099-d47890a809e9",
   "metadata": {},
   "source": [
    "We see that the result is `False` as first two characters `He` are same, then comes the third character in each of the string which is `l` and `y`, But as per [ASCII ](https://www.cs.cmu.edu/~pattis/15-1XX/common/handouts/ascii.html) the value of `l` is 108 and `y` is 121, so `y` is greater and hence we see the comparison resulting `False`"
   ]
  },
  {
   "cell_type": "code",
   "execution_count": null,
   "id": "4d53022f-a837-4fec-854d-77e06b899749",
   "metadata": {},
   "outputs": [],
   "source": [
    "# list\n",
    "print([1, 2, 3, \"a\"] > [1, 2, 3, \"a\"])\n",
    "print([1, 2, \"b\"] > [1, 3, \"a\"])"
   ]
  },
  {
   "cell_type": "markdown",
   "id": "de76c417-f1ec-4f77-8120-f48f0be31558",
   "metadata": {},
   "source": [
    "The comparison on the lists works similar to that of strings, just that each object in the lists compared 😊. If the object present in the list is iterable, then the objects inside the iterable are compared by iterating over them."
   ]
  },
  {
   "cell_type": "markdown",
   "id": "4e725ab6-7a15-4470-9283-1eb15ff22568",
   "metadata": {},
   "source": [
    "```{note}\n",
    "We need to make sure during comparison that same type of objects are compared, else it would be raising a `TypeError` saying not supported 🙈.\n",
    "```"
   ]
  },
  {
   "cell_type": "markdown",
   "id": "f593eca6-ef9b-4254-a474-022a57f6b1df",
   "metadata": {},
   "source": [
    "## `>=` comparison operator"
   ]
  },
  {
   "cell_type": "markdown",
   "id": "b6cf305c-f404-49f6-8cd1-def2354c070e",
   "metadata": {},
   "source": [
    "This is a slice of pizza 🍕 as we already know about `>` operator. `>=` works pretty similar to `>` just that it returns `True` even if both the object's value is equal."
   ]
  },
  {
   "cell_type": "code",
   "execution_count": null,
   "id": "f1b69202-c26a-4f34-a369-e40e1878bcbf",
   "metadata": {},
   "outputs": [],
   "source": [
    "# True\n",
    "print(8 >= 8)\n",
    "print(\"🐍\" >= \"🐍\")\n",
    "print([1, 2, 3, \"a\"] >= [1, 2, 3, \"a\"])\n",
    "\n",
    "# False\n",
    "print(1 >= 3)\n",
    "print(\"Greetings Pythonist!\" >= \"Hey Pythonist!\")\n",
    "print([1, 2, 3] >= [3, 2, 1])"
   ]
  },
  {
   "cell_type": "markdown",
   "id": "366c4947-8673-4679-9c81-09b497a78e62",
   "metadata": {},
   "source": [
    "## `<` comparison operator"
   ]
  },
  {
   "cell_type": "markdown",
   "id": "cb0c651d-82b4-4817-9995-6e65ff0f2b31",
   "metadata": {},
   "source": [
    "The thing which runs in our mind right now is \"Hey! I already know, I can figure it out from the above explanations\", No issues, let's do it quick 🚀"
   ]
  },
  {
   "cell_type": "markdown",
   "id": "e56d9b62-d433-421e-8f8f-0b07b36787b7",
   "metadata": {},
   "source": [
    "The `<` operator checks if the value of the right operand is greater than the left operand, if yes, then result is `True`, else `False` 😊."
   ]
  },
  {
   "cell_type": "code",
   "execution_count": null,
   "id": "ddfa8770-862c-4d90-9e5e-7576ab5457cf",
   "metadata": {},
   "outputs": [],
   "source": [
    "# int\n",
    "print(6 < 8)"
   ]
  },
  {
   "cell_type": "code",
   "execution_count": null,
   "id": "d86b5869-f0b4-4031-8452-3d8d066f9f4d",
   "metadata": {},
   "outputs": [],
   "source": [
    "# str\n",
    "print(\"b\" < \"a\")\n",
    "print(\"Hello\" < \"Hey\")\n",
    "\n",
    "# list\n",
    "print([1, 2, 3, \"a\"] < [1, 2, 3, \"a\"])\n",
    "print([1, 2, \"b\"] < [1, 3, \"a\"])"
   ]
  },
  {
   "cell_type": "markdown",
   "id": "a646e084-8724-4577-a025-9f5bc91fc363",
   "metadata": {},
   "source": [
    "## `<=` comparison operator"
   ]
  },
  {
   "cell_type": "markdown",
   "id": "03a3c4f1-b3ba-473c-ba23-00cea4fc1585",
   "metadata": {},
   "source": [
    "The `<=` operator checks if the value of the right operand is greater or equal to the left operand, if yes, then result is `True`, else `False` 😊."
   ]
  },
  {
   "cell_type": "code",
   "execution_count": null,
   "id": "925b5789-7a97-4f3e-8a5b-673f90d5b521",
   "metadata": {},
   "outputs": [],
   "source": [
    "# True\n",
    "print(8 <= 8)\n",
    "print(\"🐍\" <= \"🐍\")\n",
    "print([1, 2, 3, \"a\"] <= [1, 2, 3, \"a\"])\n",
    "\n",
    "# False\n",
    "print(3 <= 1)\n",
    "print(\"Hey Pythonist!\" <= \"Greetings Pythonist!\")\n",
    "print([3, 2, 1] <= [1, 2, 3])"
   ]
  },
  {
   "cell_type": "markdown",
   "id": "a943df1c-f150-4616-b9f0-8d93354197b8",
   "metadata": {},
   "source": [
    "## `is` operator"
   ]
  },
  {
   "cell_type": "markdown",
   "id": "c6705e24-6c8e-4046-a9d1-30f81aa8b40c",
   "metadata": {},
   "source": [
    "Finally, we reached the destination to know about `is` operator. `is` operator is specific to Python, first let us see an example, then we would get into explanation 😬"
   ]
  },
  {
   "cell_type": "code",
   "execution_count": null,
   "id": "5a71eafb-f94d-4642-a09e-cd13947b7ea0",
   "metadata": {},
   "outputs": [],
   "source": [
    "a = [1, \"a\", None, False]  # Creating a list and assigning it to a.\n",
    "b = a  # assigning the a to b.\n",
    "print(f\"Value of a is {a} and b is {b}\")\n",
    "print(a == b)\n",
    "print(a is b)"
   ]
  },
  {
   "cell_type": "markdown",
   "id": "a9893811-0eff-4764-abbe-5e6cc36def24",
   "metadata": {},
   "source": [
    "Hurray 💥! We see `True` for both `a==b` and `a is b`, Wait what 🙄! Then what is the difference between `==` and `is` operator?"
   ]
  },
  {
   "cell_type": "markdown",
   "id": "317c4282-e4c6-42ed-baed-8f8e346024a1",
   "metadata": {},
   "source": [
    "Now, let's see the above example code again, but slowly 😅... instead of creating a new object and assigning it to b as `b= [1, \"a\", None, False]`, we have just assigned a to b. In this way, we are making `a` and `b` pointing to the same object."
   ]
  },
  {
   "cell_type": "markdown",
   "id": "33988c43-7e30-481c-b875-08e622850dcd",
   "metadata": {},
   "source": [
    "You might be having trust issues with me 🤥, let's check if `a` and `b` are really the same objects programmatically 😬."
   ]
  },
  {
   "cell_type": "markdown",
   "id": "5d67b54a-acd5-4c8a-b257-3419699d3ef6",
   "metadata": {},
   "source": [
    "```{hint}\n",
    "How do we find if the objects are same? The Built-in function `id` helps here, `id(<obj>)` returns the address of the object, and so if the address is same, so does the objects.\n",
    "```"
   ]
  },
  {
   "cell_type": "code",
   "execution_count": null,
   "id": "dd2d92ca-3ace-4b41-9500-2d05468ff60b",
   "metadata": {},
   "outputs": [],
   "source": [
    "id_of_a = id(a)\n",
    "id_of_b = id(b)\n",
    "print(id_of_a)\n",
    "print(id_of_b)\n",
    "print(f\"id of a is equal to id of b: {id_of_a==id_of_b}\")"
   ]
  },
  {
   "cell_type": "markdown",
   "id": "2d597b6c-9b8c-44a0-8938-8c4c6f412a95",
   "metadata": {},
   "source": [
    "Yup, that's how the `a is b` returned `True` and we already know `a == b` would return `True` as they are having same values."
   ]
  },
  {
   "cell_type": "markdown",
   "id": "0e52bbbb-f708-44a0-9ed8-ea28cf98211e",
   "metadata": {},
   "source": [
    "*One more example:*"
   ]
  },
  {
   "cell_type": "code",
   "execution_count": null,
   "id": "4f25b279-32d8-4c69-a26e-3b764e57028d",
   "metadata": {},
   "outputs": [],
   "source": [
    "a = [1, 2, 3]  # New object assigned to a.\n",
    "b = [1, 2, 3]  # New object assigned to b.\n",
    "id_of_a = id(a)\n",
    "id_of_b = id(b)\n",
    "print(f\"id of a is {id_of_a} and b is {id_of_b}\")\n",
    "print(a == b)\n",
    "print(a is b)"
   ]
  },
  {
   "cell_type": "markdown",
   "id": "8774bfce-0d85-4ad6-a97b-7467bd533985",
   "metadata": {},
   "source": [
    "In the above example we have assigned new lists to `a` and `b` of same values, and hence we see the result of `a == b` as `True`, but `a is b` returning `False` as id's of a and b are different as they are different objects."
   ]
  },
  {
   "cell_type": "markdown",
   "id": "3a35f0b6-c013-47c6-bfad-980e318543d4",
   "metadata": {},
   "source": [
    "**TLDR:** `is` operator is to check for same objects, `==` is to check for the values of the objects."
   ]
  },
  {
   "cell_type": "markdown",
   "id": "05eeb020-a115-4e1a-93ce-df788852b51b",
   "metadata": {},
   "source": [
    "```{note}\n",
    "`None`, `True` and `False` are true constants in Python, In the complete execution of Python code, whenever and wherever we get to meet these objects, we are actually mingling with the same friends 😊. Hence, we could use `is` operator when we compare `None`, `True` and `False`.\n",
    "```"
   ]
  },
  {
   "cell_type": "markdown",
   "id": "6249dd9a-eb9c-4a1f-a25a-cc7afa318d71",
   "metadata": {},
   "source": [
    "*Example:*"
   ]
  },
  {
   "cell_type": "code",
   "execution_count": null,
   "id": "b4b9fb04-51a2-407b-929e-a407fc02d526",
   "metadata": {},
   "outputs": [],
   "source": [
    "a = None\n",
    "b = None\n",
    "print(a is b)"
   ]
  },
  {
   "cell_type": "markdown",
   "id": "d79059b4-1cd5-46b0-9a41-3c94ac7d8ed7",
   "metadata": {},
   "source": [
    "## `is not` operator"
   ]
  },
  {
   "cell_type": "markdown",
   "id": "60c48f4c-360b-4a1c-9fae-d3ea4e5e78bb",
   "metadata": {},
   "source": [
    "`is not` is the twin brother of `is` operator, just that it shows attitude towards `is` operator 😈 JK! As we know `is` is to find if the operands are same object, `is not` returns `True` if the operands are not same object and `False` if they are same object."
   ]
  },
  {
   "cell_type": "code",
   "execution_count": null,
   "id": "bb837bdf-8516-4af6-bcb5-e4a4bc8d852c",
   "metadata": {},
   "outputs": [],
   "source": [
    "x = [1, 2, 3]\n",
    "y = [1, 2, 3]\n",
    "id_of_x = id(x)\n",
    "id_of_y = id(y)\n",
    "print(f\"id of x is {id_of_x} and y is {id_of_y}\")\n",
    "print(x is not y)"
   ]
  },
  {
   "cell_type": "markdown",
   "id": "b6ee473a-b9e5-4eab-a5f3-4cde5bc913aa",
   "metadata": {},
   "source": [
    "## Note"
   ]
  },
  {
   "cell_type": "markdown",
   "id": "91c703c8-2678-4713-8f87-5c6d66ba301d",
   "metadata": {},
   "source": [
    "```{important}\n",
    "Python does behave a little weird when integers are to be checked if they are same objects in the range of 256.\n",
    "\n",
    "```"
   ]
  },
  {
   "cell_type": "code",
   "execution_count": null,
   "id": "3f0405f4-2b31-46ed-93cd-85dad821b200",
   "metadata": {},
   "outputs": [],
   "source": [
    "# for 256.\n",
    "a = 256\n",
    "b = 256\n",
    "print(a is b)\n",
    "\n",
    "# for 257.\n",
    "c = 257\n",
    "d = 257\n",
    "print(c is d)"
   ]
  },
  {
   "cell_type": "markdown",
   "id": "f3d453ed-27a0-4478-830f-6a266fe6e5d7",
   "metadata": {},
   "source": [
    "In the above we can see the difference, for `a is b` where a and b are 256, we see the result as `True`. But for `c is d` where c and d are 257, we see that the result if `False`."
   ]
  },
  {
   "cell_type": "markdown",
   "id": "7b0de4cd-54f8-449c-ab4f-2efabcf72074",
   "metadata": {},
   "source": [
    "The reason for this is Python caches the integer objects from 0 to 256, so whenever we assign an integer between 0 and 256, Python uses the same integer object it has created everytime 😊. No worries, we can use `==` for integers which works pretty fine as we would be most concerned about the value of the integer 😊."
   ]
  }
 ],
 "metadata": {
  "kernelspec": {
   "display_name": "Python 3 (ipykernel)",
   "language": "python",
   "name": "python3"
  },
  "language_info": {
   "codemirror_mode": {
    "name": "ipython",
    "version": 3
   },
   "file_extension": ".py",
   "mimetype": "text/x-python",
   "name": "python",
   "nbconvert_exporter": "python",
   "pygments_lexer": "ipython3",
   "version": "3.9.5"
  }
 },
 "nbformat": 4,
 "nbformat_minor": 5
}
