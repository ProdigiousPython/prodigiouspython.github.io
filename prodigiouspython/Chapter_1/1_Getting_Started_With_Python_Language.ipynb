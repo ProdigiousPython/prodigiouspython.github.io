{
 "cells": [
  {
   "cell_type": "markdown",
   "metadata": {},
   "source": [
    "# Getting Started with Python 🐍"
   ]
  },
  {
   "cell_type": "markdown",
   "metadata": {
    "colab_type": "text",
    "id": "up4SnCr_Ucpb"
   },
   "source": [
    "It's pretty easy to start with Python Language 🐍.\n",
    "We would be using Python >= 3.9 in this [Repository](https://github.com/ProdigiousPython/prodigiouspython) as of now 🙂\n",
    "\n",
    "1.   [Download Python](https://www.python.org/)\n",
    "2.   Pull the docker image [naveen8/prodigiouspython](https://hub.docker.com/r/naveen8/prodigiouspython) or build a Docker image by using the Dockerfile present in our [Repository](https://github.com/ProdigiousPython/ProdigiousPython) and run the container out of it which comes bundled with everything to run the code present in our repository 🚀."
   ]
  },
  {
   "cell_type": "markdown",
   "metadata": {
    "colab_type": "text",
    "id": "37gVHVNyW3bU"
   },
   "source": [
    "Lets check the version of Python we are using.\n",
    "We have 2 ways to know this.\n",
    "\n",
    "\n",
    "1.   Open the cmd or terminal and execute **python --version**\n",
    "2.   Using Python's builtin sys module"
   ]
  },
  {
   "cell_type": "code",
   "execution_count": null,
   "metadata": {
    "colab": {},
    "colab_type": "code",
    "id": "ok-tHP26Wua7"
   },
   "outputs": [],
   "source": [
    "import sys\n",
    "\n",
    "print(sys.version)"
   ]
  }
 ],
 "metadata": {
  "colab": {
   "authorship_tag": "ABX9TyMpeSvq84ej64Ppr309D7u9",
   "include_colab_link": true,
   "name": "Chapter1_Getting_Started_With_Python_Language.ipynb",
   "private_outputs": true,
   "provenance": []
  },
  "kernelspec": {
   "display_name": "Python 3 (ipykernel)",
   "language": "python",
   "name": "python3"
  },
  "language_info": {
   "codemirror_mode": {
    "name": "ipython",
    "version": 3
   },
   "file_extension": ".py",
   "mimetype": "text/x-python",
   "name": "python",
   "nbconvert_exporter": "python",
   "pygments_lexer": "ipython3",
   "version": "3.10.0"
  }
 },
 "nbformat": 4,
 "nbformat_minor": 4
}
