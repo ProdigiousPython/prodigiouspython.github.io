{
 "cells": [
  {
   "cell_type": "markdown",
   "id": "575f27e6-d67a-46b1-a288-c09ea0348a94",
   "metadata": {},
   "source": [
    "# Class"
   ]
  },
  {
   "cell_type": "markdown",
   "id": "47f3d59a-2df7-433c-8cbb-ecadf5271b46",
   "metadata": {},
   "source": [
    "As Python 🐍 is a Object Oriented Programming Language, we get the fruits like Inheritance, Encapsulation, Polymorphism and Data Abstraction. If you are already familiar with other OOP languages like C++, Java you might have already heard of these scaring jargons, if not, don't worry, let's get to know about them in simple funny terms."
   ]
  },
  {
   "cell_type": "markdown",
   "id": "1f61e0d9-c316-428c-81a3-f8452efa31a6",
   "metadata": {},
   "source": [
    "## What the heck is class 🤔?"
   ]
  },
  {
   "cell_type": "markdown",
   "id": "dcb82c8f-e67f-43c8-bd46-ad65d0c449b9",
   "metadata": {},
   "source": [
    "A class is a blueprint which describes the data and various methods which help to manipulate or use the data specific to it."
   ]
  },
  {
   "cell_type": "markdown",
   "id": "471cc395-0f83-45f0-9e65-c803ee87822c",
   "metadata": {},
   "source": [
    "A class is created using the Keyword `class`."
   ]
  },
  {
   "cell_type": "markdown",
   "id": "b9c26d84-a914-4ead-9e9d-6aac5f064be5",
   "metadata": {},
   "source": [
    "Let's start by creating a simplest possible class 😎"
   ]
  },
  {
   "cell_type": "code",
   "execution_count": null,
   "id": "4b93c9b5-f0e2-4311-9ef1-20b15218a342",
   "metadata": {},
   "outputs": [],
   "source": [
    "class IAmASimpleClass:\n",
    "    pass"
   ]
  },
  {
   "cell_type": "markdown",
   "id": "d29fb526-f2e4-4934-9817-c3a139065f5c",
   "metadata": {},
   "source": [
    "Yipee! We did it 😬. Let's confirm it 👇"
   ]
  },
  {
   "cell_type": "code",
   "execution_count": null,
   "id": "ac0b2b88-6f8b-489c-bb68-0d1e5501cd85",
   "metadata": {},
   "outputs": [],
   "source": [
    "import inspect\n",
    "\n",
    "print(f\"IAmASimpleClass is class: {inspect.isclass(IAmASimpleClass)}\")"
   ]
  },
  {
   "cell_type": "markdown",
   "id": "f129f002-053d-4978-b9a3-5ed9373a5e02",
   "metadata": {},
   "source": [
    "```{hint}\n",
    "`isclass` function of `inspect` module is used to check whether the object/argument is class or not, If class, returns `True`, else `False`.\n",
    "```"
   ]
  },
  {
   "cell_type": "markdown",
   "id": "8dfbad51-3a5a-4a0d-8e5a-76ca792cadb6",
   "metadata": {},
   "source": [
    "As in our `IAmASimpleClass` we haven't written any code inside it, we might think there is neither data nor methods associated with it, but that's not the case. There are methods associated with our class 🔍. let's check it."
   ]
  },
  {
   "cell_type": "markdown",
   "id": "c3ef9461-2b50-4e87-9f93-ada9e2806f6a",
   "metadata": {},
   "source": [
    "We will be using `dir` function to get to know all the attributes associated with our class"
   ]
  },
  {
   "cell_type": "code",
   "execution_count": null,
   "id": "48e1505e-fea0-48e0-b328-ce31afec8c30",
   "metadata": {},
   "outputs": [],
   "source": [
    "dir(IAmASimpleClass)"
   ]
  },
  {
   "cell_type": "markdown",
   "id": "067a9e41-3129-40ee-82c2-cc70cc6eb546",
   "metadata": {},
   "source": [
    "Yup, we see few things are present. But from where did we get those? I am sure, there's no magic here. It's time to be a detective 🕵"
   ]
  },
  {
   "cell_type": "markdown",
   "id": "483dca2c-74cd-4ffe-9ae9-fe48af1cd199",
   "metadata": {},
   "source": [
    "We all must have already heard or read that **In Python everything is an Object**. Well, the culprit in the above example is the class `object` ⚔️. All the above attributes or methods in the output are inherited from the class `object`. In Python3, by default every class inherits `object` class."
   ]
  },
  {
   "cell_type": "code",
   "execution_count": null,
   "id": "41f6dc21-9862-4b55-9ec5-7edc974c5bdf",
   "metadata": {},
   "outputs": [],
   "source": [
    "class IAmASimpleClass:  # Python3 takes care of inheriting object.\n",
    "    pass\n",
    "\n",
    "\n",
    "class IAmASimpleClass(\n",
    "    object\n",
    "):  # We can explicitly inherit object, although not required.\n",
    "    pass"
   ]
  },
  {
   "cell_type": "markdown",
   "id": "9dbe9df7-f1a6-42dd-9e31-90a74393d8a2",
   "metadata": {},
   "source": [
    "Both the above classes are pretty much equal. Feel free to use any of those, If you are as lazy as me, I would recommend you to use the first method(New-Style classes) and let Python take care of inheriting `object` for us."
   ]
  },
  {
   "cell_type": "markdown",
   "id": "2be816c2-59bb-499b-b06c-f7ce09c9e37a",
   "metadata": {},
   "source": [
    "```{note}\n",
    "Second method of inheriting object is generally used if we want to use code which is agnostic to both Python3 and Python2. But let's not get confused with Python2 way of creating classes \"classic-way\" and \"new-style\" as Python2 already passed EOL and dead.\n",
    "```"
   ]
  },
  {
   "cell_type": "markdown",
   "id": "b7f7dc84-7cef-4311-9531-c011d3ffe89d",
   "metadata": {},
   "source": [
    "Yup, we got our answer, All the attributes or methods which we saw in our output are from the class `object`. 😊"
   ]
  },
  {
   "cell_type": "markdown",
   "id": "91f71116-1a48-4050-85b4-9d3e52d2521e",
   "metadata": {},
   "source": [
    "As we have reached our first milestone of creating a simple class, let's get to know a bit more about class."
   ]
  },
  {
   "cell_type": "code",
   "execution_count": null,
   "id": "68149a81-2b38-4823-a8f4-41474e6fc4a8",
   "metadata": {},
   "outputs": [],
   "source": [
    "class SuperHero:\n",
    "    def __init__(\n",
    "        self, name, power_level, special_power\n",
    "    ):  # One of the special/magic/dunder method.\n",
    "        self.name = name  # Instance attributes.\n",
    "        self.power_level = power_level\n",
    "        self.special_power = special_power\n",
    "\n",
    "    def introduce(self):  # Method.\n",
    "        return f\"Hey! I am {self.name}, my special power is {self.special_power} and have a crazy power level of {self.power_level} 🔥\""
   ]
  },
  {
   "cell_type": "markdown",
   "id": "1fb377bf-bd9a-4157-8bb1-89ce8550b926",
   "metadata": {},
   "source": [
    "Let's go bit by bit about our `SuperHero` class."
   ]
  },
  {
   "cell_type": "markdown",
   "id": "75efd266-f269-4a58-aa69-61c258e74ae5",
   "metadata": {},
   "source": [
    "As we said class is a blueprint which describes the data and various methods which help to manipulate or use the data specific to it. let's point out what are the data and methods here."
   ]
  },
  {
   "cell_type": "markdown",
   "id": "eb6d15d5-f698-4621-9ba9-47591fb2d1f7",
   "metadata": {},
   "source": [
    "### `__init__`"
   ]
  },
  {
   "cell_type": "markdown",
   "id": "918ccee4-fc4c-4145-b10f-64741c74d4cc",
   "metadata": {},
   "source": [
    "The first line inside our class `SuperHero`, we see a function(actually a method) called `__init__`. This is one of the special/magic/dunder methods present in Python classes. Whenever we try to create a new instance of class, `__init__` method gets called."
   ]
  },
  {
   "cell_type": "markdown",
   "id": "889389f6-aa0d-421e-868d-55de181b6d94",
   "metadata": {},
   "source": [
    "But, what is the role of parameters in the `__init__` signature as?\n",
    "\n",
    "```Python\n",
    "def __init__(self, name, power_level, special_power):\n",
    "```"
   ]
  },
  {
   "cell_type": "markdown",
   "id": "e9026d9f-c74a-419b-a209-d1888dce5dcc",
   "metadata": {},
   "source": [
    "While creating objects for our class, we pass the parameters as:"
   ]
  },
  {
   "cell_type": "code",
   "execution_count": null,
   "id": "45d84a88-515a-4b71-8b60-e04abc0c247d",
   "metadata": {},
   "outputs": [],
   "source": [
    "super_hero = SuperHero(\"Iron Man\", 1000000, \"Jarvis\")"
   ]
  },
  {
   "cell_type": "markdown",
   "id": "8221fc16-70f8-4868-89bc-f177d5c9f975",
   "metadata": {},
   "source": [
    "```{note}\n",
    "🤔 we see that, in `__init__` method, we have 4 parameters `self`, `name`, `power_level`, `special_power`, but during initialization of the object, we just passed 3 arguments, and it worked without raising any exceptions 😳. The reason is the `__new__` method of `object`(universal base class) is called before `__init__` implicitly which actually creates the object and passes the object for `self` argument. No hurry, we would see it in action soon 😊.\n",
    "```"
   ]
  },
  {
   "cell_type": "markdown",
   "id": "49025109-a966-45b3-9efb-f4e1f85301c8",
   "metadata": {},
   "source": [
    "What exactly is `self`? The self argument in the methods is the representation of the instance or object created out of that class. "
   ]
  },
  {
   "cell_type": "markdown",
   "id": "d61a5b9e-377c-4e90-93ae-6067c2ea148d",
   "metadata": {},
   "source": [
    "```{note}\n",
    "The word `self` is just a convention among the Python community, there's no hard rule here, we can replace `self` with any word, just that it shouldn't be a Python Keyword 😬.\n",
    "```"
   ]
  },
  {
   "cell_type": "markdown",
   "id": "fead6318-4708-4a6f-aeb5-d8e2d71cc2f2",
   "metadata": {},
   "source": [
    "### Instance attributes"
   ]
  },
  {
   "cell_type": "markdown",
   "id": "68ff0da9-0081-4bf5-94bf-4f4299c69e08",
   "metadata": {},
   "source": [
    "We see few assignments in the `__init__` method as:"
   ]
  },
  {
   "cell_type": "markdown",
   "id": "41fe0c4a-e188-45e4-8c38-ab18e03066c4",
   "metadata": {},
   "source": [
    "```Python\n",
    "self.name = name  # Instance attributes.\n",
    "self.power_level = power_level\n",
    "self.special_power = special_power\n",
    "```"
   ]
  },
  {
   "cell_type": "markdown",
   "id": "4c316ddf-d773-43a3-b9e9-0d50d47025a6",
   "metadata": {},
   "source": [
    "As we learnt that `self` represents the object created out of the class, we are assigning the arguments `name`, `power_level`, `special_power` to `self.name`, `self.power_level`, `self.special_power` respectively. In this way, we create attributes which belong to the object."
   ]
  },
  {
   "cell_type": "markdown",
   "id": "18ece9ee-48fd-42f7-b3e3-0de11b0a727f",
   "metadata": {},
   "source": [
    "```{tip}\n",
    "Instance attributes can be named any, we don't need to always name instance attributes same as arguments names.\n",
    "```"
   ]
  },
  {
   "cell_type": "markdown",
   "id": "ee61dfda-a5e2-4930-aa19-421eebfd2f35",
   "metadata": {},
   "source": [
    "That's great 🎊! We learnt about how to create an instance of class and instance attributes."
   ]
  },
  {
   "cell_type": "markdown",
   "id": "14b4c767-db1b-4d75-9a51-72c447dac0fb",
   "metadata": {},
   "source": [
    "### Methods"
   ]
  },
  {
   "cell_type": "markdown",
   "id": "f2a48be1-c5a3-4b37-b122-0227e791f94e",
   "metadata": {},
   "source": [
    "Methods are basically functions that are bound to classes and interact with class or instance attributes 😬. In simple words **methods are just functions but are members of a class**."
   ]
  },
  {
   "cell_type": "markdown",
   "id": "481fa41b-570f-4cfd-9758-f154b757e984",
   "metadata": {},
   "source": [
    "In our `SuperHero` class, we have a method called `introduce`. let's call it 🔛."
   ]
  },
  {
   "cell_type": "code",
   "execution_count": null,
   "id": "fe0699fb-f2bd-4451-b3ca-70f9a8287d11",
   "metadata": {},
   "outputs": [],
   "source": [
    "super_hero.introduce()"
   ]
  },
  {
   "cell_type": "markdown",
   "id": "dd67b0b2-32a3-4c2c-aca7-26932aebd0a2",
   "metadata": {},
   "source": [
    "Well, our `introduce` method introduced Iron man very well, But we already knew our beloved Super Hero Iron man in first place ❤️"
   ]
  },
  {
   "cell_type": "markdown",
   "id": "61d9c42b-8d25-4d45-89b8-580bae1278bd",
   "metadata": {},
   "source": [
    "![Iron man says hello](https://github.com/ProdigiousPython/AssetStore/blob/main/Chapters_6-10/Chapter_8/Ironman.jpg?raw=true)"
   ]
  },
  {
   "cell_type": "markdown",
   "id": "9d650fe5-2939-465b-be14-9414bbb19a39",
   "metadata": {},
   "source": [
    "```{hint}\n",
    "**class** vs **class object** through an example:\n",
    "\n",
    "**class** is a blueprint of the House 📜.\n",
    "\n",
    "**class object** is the actual House 🏠.\n",
    "```"
   ]
  }
 ],
 "metadata": {
  "kernelspec": {
   "display_name": "Python 3 (ipykernel)",
   "language": "python",
   "name": "python3"
  },
  "language_info": {
   "codemirror_mode": {
    "name": "ipython",
    "version": 3
   },
   "file_extension": ".py",
   "mimetype": "text/x-python",
   "name": "python",
   "nbconvert_exporter": "python",
   "pygments_lexer": "ipython3",
   "version": "3.9.7"
  }
 },
 "nbformat": 4,
 "nbformat_minor": 5
}
