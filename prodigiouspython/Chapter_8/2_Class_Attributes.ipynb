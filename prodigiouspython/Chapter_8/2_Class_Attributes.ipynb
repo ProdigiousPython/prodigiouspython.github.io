{
 "cells": [
  {
   "cell_type": "markdown",
   "id": "2b944c90-23e7-4924-ad34-dbe3c4bd38b2",
   "metadata": {},
   "source": [
    "# Class Attributes"
   ]
  },
  {
   "cell_type": "markdown",
   "id": "cbcf4f76-52e4-4972-8196-2ad3f5f58072",
   "metadata": {},
   "source": [
    "In our earlier lesson, we got to learn about instance attributes. Here let's learn about class Attributes 😎"
   ]
  },
  {
   "cell_type": "markdown",
   "id": "1594ed4a-1b00-416c-8cc9-863473df44b5",
   "metadata": {},
   "source": [
    "Class Attributes are cousins of Instance Attributes 😬. Just kidding."
   ]
  },
  {
   "cell_type": "markdown",
   "id": "c1ca7469-93ee-4a4e-ad6b-1dec2e160a45",
   "metadata": {},
   "source": [
    "As Instance attributes are bound to instances/objects, Class attributes are bound to the Class itself."
   ]
  },
  {
   "cell_type": "markdown",
   "id": "f1c6bafa-bbf9-47c3-bbbb-69cf11006929",
   "metadata": {},
   "source": [
    "![Class vs Instance attributes](https://github.com/ProdigiousPython/AssetStore/blob/main/Chapters_6-10/Chapter_8/Class_Instance_Attributes.png?raw=true)"
   ]
  },
  {
   "cell_type": "markdown",
   "id": "1f76085d-e687-4cc8-ae53-b9ff7a411a09",
   "metadata": {},
   "source": [
    "**Code speaks louder than words 🥁**. Let's get into an example 🙂: "
   ]
  },
  {
   "cell_type": "code",
   "execution_count": null,
   "id": "a9684aaf-4734-4b94-b228-2be25264ebe9",
   "metadata": {},
   "outputs": [],
   "source": [
    "class SuperMarket:\n",
    "    discount = 0  # Here's the class attribute.\n",
    "\n",
    "    def __init__(self, item_price):\n",
    "        self.item_price = item_price\n",
    "\n",
    "    def get_bill(self):\n",
    "        return self.item_price - ((SuperMarket.discount / 100) * self.item_price)"
   ]
  },
  {
   "cell_type": "markdown",
   "id": "e940a07c-c8be-4edb-97ab-13862e306633",
   "metadata": {},
   "source": [
    "We have created a class `SuperMarket` and it contains a variable called `discount`, well this is the Class Attribute that we are going to explore."
   ]
  },
  {
   "cell_type": "markdown",
   "id": "dfbfe0d0-2001-4d79-843c-e1dbc4c7343b",
   "metadata": {},
   "source": [
    "As we learned that Class Attributes are bound to class whereas Instance Attributes are bound to instance, lets explore it first."
   ]
  },
  {
   "cell_type": "markdown",
   "id": "663efe29-d202-484b-bbdd-1fd94b9738d0",
   "metadata": {},
   "source": [
    "**Checking if Instance attribute is bound to Class?**"
   ]
  },
  {
   "cell_type": "code",
   "execution_count": null,
   "id": "fd02d287-7cca-452f-a810-d908b86f6e8f",
   "metadata": {},
   "outputs": [],
   "source": [
    "SuperMarket.item_price"
   ]
  },
  {
   "cell_type": "markdown",
   "id": "7e6e38e3-db52-4e3f-a52a-76d3f69cf0c5",
   "metadata": {},
   "source": [
    "`item_price` is Instance Attribute, We can clearly see that there's an `AttributeError` raised when trying to access instance attribute using the Class rather than the instance."
   ]
  },
  {
   "cell_type": "markdown",
   "id": "978c1e36-b5bc-4ece-b178-adbd764eaeb2",
   "metadata": {},
   "source": [
    "**Checking if Class Attribute is bound to Class?**"
   ]
  },
  {
   "cell_type": "code",
   "execution_count": null,
   "id": "31b89df9-4a61-472f-b493-812883b32755",
   "metadata": {},
   "outputs": [],
   "source": [
    "SuperMarket.discount"
   ]
  },
  {
   "cell_type": "markdown",
   "id": "bf03172e-9091-4c61-b18f-ebb874c393ad",
   "metadata": {},
   "source": [
    "🎊 Hurray! We are able to access `discount` using the Class itself."
   ]
  },
  {
   "cell_type": "markdown",
   "id": "d517bfec-2013-41a0-a4d3-39d4ff384e11",
   "metadata": {},
   "source": [
    "Hence, Class Attributes are bound to Class whereas Instance Attributes are bound to Instances."
   ]
  },
  {
   "cell_type": "markdown",
   "id": "bca60f53-a8f1-4fb6-a446-fa619fb99ebf",
   "metadata": {},
   "source": [
    "Well, there's no reason for you to trust me 😬, So let's look at the attributes present for the class."
   ]
  },
  {
   "cell_type": "code",
   "execution_count": null,
   "id": "b7a00af4-73f8-4a8a-a652-f6d962ef491c",
   "metadata": {},
   "outputs": [],
   "source": [
    "SuperMarket.__dict__"
   ]
  },
  {
   "cell_type": "markdown",
   "id": "f6b0eb47-cb10-4a80-835e-e2a6ed068682",
   "metadata": {},
   "source": [
    "We can see that `SuperMarket.__dict__` returned an object which shows the attribute `discount`. Hence, `discount` is a class attribute as it is bound to its class 😊."
   ]
  },
  {
   "cell_type": "markdown",
   "id": "da2bf610-4b3c-4ff0-916a-73c97d58901d",
   "metadata": {},
   "source": [
    "## 🔔 Altering the class Attributes"
   ]
  },
  {
   "cell_type": "markdown",
   "id": "49358b6e-5215-41e7-8843-78b81f0da5e8",
   "metadata": {},
   "source": [
    "First of all, let's check what is the value of discount?"
   ]
  },
  {
   "cell_type": "code",
   "execution_count": null,
   "id": "d9bb1549-c4c4-4ba2-a749-452f177b2376",
   "metadata": {},
   "outputs": [],
   "source": [
    "SuperMarket.discount"
   ]
  },
  {
   "cell_type": "markdown",
   "id": "d4331d18-9614-4b89-b937-6c2e3b9cd3e8",
   "metadata": {},
   "source": [
    "Let's create an object of `SuperMarket`"
   ]
  },
  {
   "cell_type": "code",
   "execution_count": null,
   "id": "62e12c46-5594-4f96-9281-8f41edcf3702",
   "metadata": {},
   "outputs": [],
   "source": [
    "obj = SuperMarket(100)  # Creation of object of the class SuperMarket."
   ]
  },
  {
   "cell_type": "code",
   "execution_count": null,
   "id": "752e9ac4-df77-4956-971d-6b65c456ce01",
   "metadata": {},
   "outputs": [],
   "source": [
    "obj.discount"
   ]
  },
  {
   "cell_type": "markdown",
   "id": "057ceeb8-06d2-4492-9426-5802fce8a586",
   "metadata": {},
   "source": [
    "We can still see the value of `discount` of the `obj` to be 0 😊."
   ]
  },
  {
   "cell_type": "markdown",
   "id": "0b6ddad7-bfcd-48a6-8190-eb44fa08bde2",
   "metadata": {},
   "source": [
    "Let's change the `discount` class attribute through the class `SuperMarket`."
   ]
  },
  {
   "cell_type": "code",
   "execution_count": null,
   "id": "c3f376d3-3b4a-4862-9e63-0a3d01c3b808",
   "metadata": {},
   "outputs": [],
   "source": [
    "SuperMarket.discount = 10"
   ]
  },
  {
   "cell_type": "markdown",
   "id": "b7669623-03c5-489d-a5b4-4a34adbc21de",
   "metadata": {},
   "source": [
    "We have changed the value of the class attribute `discount` to 10."
   ]
  },
  {
   "cell_type": "code",
   "execution_count": null,
   "id": "ca489bd1-0e0a-478c-8c73-bc56f7f483e8",
   "metadata": {},
   "outputs": [],
   "source": [
    "SuperMarket.discount"
   ]
  },
  {
   "cell_type": "code",
   "execution_count": null,
   "id": "5ece5ff0-ceae-48b0-b818-fbe8244ea5c5",
   "metadata": {},
   "outputs": [],
   "source": [
    "obj.discount"
   ]
  },
  {
   "cell_type": "markdown",
   "id": "bfd04889-0850-42b6-a7c1-b8e009938d5d",
   "metadata": {},
   "source": [
    "We can see that changing the class attribute values changes the values of the attributes of the object as well."
   ]
  },
  {
   "cell_type": "markdown",
   "id": "4ff2dce0-03cf-4b81-870a-eb57f2d8bdf5",
   "metadata": {},
   "source": [
    "**But, what if we change the class attribute via the object? Does it changes the actual Class Attribute? 🤔\"**"
   ]
  },
  {
   "cell_type": "code",
   "execution_count": null,
   "id": "6478b920-090e-496e-bdbd-308743fc721e",
   "metadata": {},
   "outputs": [],
   "source": [
    "SuperMarket.discount"
   ]
  },
  {
   "cell_type": "code",
   "execution_count": null,
   "id": "8affb3a6-1d8e-4f68-a3c7-fc61f737a9db",
   "metadata": {},
   "outputs": [],
   "source": [
    "obj.discount"
   ]
  },
  {
   "cell_type": "markdown",
   "id": "9c687ea5-1c31-4957-bb7d-e8854b842614",
   "metadata": {},
   "source": [
    "At present, we have both `SuperMarket.discount` and `obj.discount` values to be 10."
   ]
  },
  {
   "cell_type": "code",
   "execution_count": null,
   "id": "3abce644-2d12-46f9-9ac7-1a9cbea6f1fa",
   "metadata": {},
   "outputs": [],
   "source": [
    "obj.discount = 20  # Changing the object's discount value to 20."
   ]
  },
  {
   "cell_type": "code",
   "execution_count": null,
   "id": "82c98c6a-ade1-495f-ba82-14f3423a980a",
   "metadata": {},
   "outputs": [],
   "source": [
    "obj.discount  # Checking if the object's discount changed to 20?"
   ]
  },
  {
   "cell_type": "code",
   "execution_count": null,
   "id": "4329fb22-e091-416b-9bcf-56aecb325018",
   "metadata": {},
   "outputs": [],
   "source": [
    "SuperMarket.discount  # Checking for the class Attribute 'discount' bound to the class."
   ]
  },
  {
   "cell_type": "markdown",
   "id": "2113a54c-3f75-4e7b-b5db-27cd4390aa43",
   "metadata": {},
   "source": [
    "**Well, We got to see that when the object's class attribute value is changed, it doesn't change the Class's class attribute value 😬. Well, what's the reason for this behaviour 🤔?**"
   ]
  },
  {
   "cell_type": "markdown",
   "id": "ca98f5ef-acea-4356-834d-e8fa4a8bddba",
   "metadata": {},
   "source": [
    "To identify what paved the way for the above behaviour, let's create another object of the class `SuperMarket`"
   ]
  },
  {
   "cell_type": "code",
   "execution_count": null,
   "id": "3dcf3855-7289-4725-bb4a-61ecd4a6dd37",
   "metadata": {},
   "outputs": [],
   "source": [
    "obj2 = SuperMarket(100)  # Creating a new object."
   ]
  },
  {
   "cell_type": "markdown",
   "id": "0af1ed34-60ce-4030-ad2c-25e4f5db0495",
   "metadata": {},
   "source": [
    "Now let's look at the instance attributes of `obj2` by using the special/magic method `__dict__`."
   ]
  },
  {
   "cell_type": "code",
   "execution_count": null,
   "id": "373af90f-8779-45f6-8f5d-2979f09ec410",
   "metadata": {
    "tags": []
   },
   "outputs": [],
   "source": [
    "obj2.__dict__"
   ]
  },
  {
   "cell_type": "markdown",
   "id": "b2938f8c-de61-4135-9f31-3c3a4b374556",
   "metadata": {},
   "source": [
    "We see that `obj2` has only item `item_price`. let's look at `obj` also on which we tried to change the value of class attribute `discount`."
   ]
  },
  {
   "cell_type": "code",
   "execution_count": null,
   "id": "e6b273e6-59b3-41d0-83ad-0a4bd095d7c7",
   "metadata": {
    "tags": []
   },
   "outputs": [],
   "source": [
    "obj.__dict__"
   ]
  },
  {
   "cell_type": "markdown",
   "id": "ab6b84d6-0379-4f62-8e4f-c3c343bc8a41",
   "metadata": {},
   "source": [
    "There's an extra field `discount` for `obj`, it's because we tried to change the class attribute's value which actually shadows/creates a new attribute with the same name as **instance attribute**"
   ]
  },
  {
   "cell_type": "markdown",
   "id": "c00775b7-4fe7-4d74-8d00-762b94956fff",
   "metadata": {},
   "source": [
    "🤔 How to revert the value of `discount` to be the class attribute's value, which in our case should be 10."
   ]
  },
  {
   "cell_type": "markdown",
   "id": "41e51a0d-eb97-4253-8d41-9db2fa256d63",
   "metadata": {},
   "source": [
    "Easy Peasy! we just need to delete the attribute of the `obj` using `del`."
   ]
  },
  {
   "cell_type": "code",
   "execution_count": null,
   "id": "e01ea225-86df-4e20-a4d8-f0cf5bccd022",
   "metadata": {},
   "outputs": [],
   "source": [
    "del obj.discount"
   ]
  },
  {
   "cell_type": "markdown",
   "id": "740cc7be-631e-411d-afb8-0dcb405f8822",
   "metadata": {},
   "source": [
    "Now, let's look at the value of `obj.discount` which was earlier 20."
   ]
  },
  {
   "cell_type": "code",
   "execution_count": null,
   "id": "beb65e77-3696-41ef-a3db-809d1b7c5255",
   "metadata": {},
   "outputs": [],
   "source": [
    "obj.discount"
   ]
  },
  {
   "cell_type": "markdown",
   "id": "25712c39-20a7-4b0b-92c2-1f2dbe1d3d0c",
   "metadata": {},
   "source": [
    "Hurray! we are back to square one. By deleting the **shadowed** discount instance attribute, we are back with the **Class Attribute** `discount` whose value is `10`."
   ]
  },
  {
   "cell_type": "markdown",
   "id": "c0f71c6a-b076-49be-b76f-8c009a7999e6",
   "metadata": {},
   "source": [
    "```{important}\n",
    "Modifying the Class's class attribute changes the attribute in all the objects created. But, changing the class attribute bound to the instance/object shadows the class attribute by creating an instance attribute of same name which is bound only to the objectclass.\n",
    "```"
   ]
  },
  {
   "cell_type": "markdown",
   "id": "a3ca9630-4be2-4fe0-8f21-cefcc867f0e8",
   "metadata": {},
   "source": [
    "## Accessing class attributes within the class."
   ]
  },
  {
   "cell_type": "markdown",
   "id": "316bfb24-47d7-4744-afec-d1e38346621c",
   "metadata": {},
   "source": [
    "Well, we got to learn about class attributes, but are they accessible within the class 🤔?"
   ]
  },
  {
   "cell_type": "markdown",
   "id": "552678b0-d8e8-401c-b0fb-1236399e3178",
   "metadata": {},
   "source": [
    "Definitely, they are accessible within the class. Let's write a new class for the demonstration."
   ]
  },
  {
   "cell_type": "code",
   "execution_count": null,
   "id": "e98153fc-c2ad-43a4-a551-ea3e83d34473",
   "metadata": {},
   "outputs": [],
   "source": [
    "class Counter:\n",
    "    no_of_objects_created = 0\n",
    "\n",
    "    def __init__(self):\n",
    "        Counter.no_of_objects_created += 1\n",
    "        print(\n",
    "            f\"Number of objects created of Counter class are: {Counter.no_of_objects_created}\"\n",
    "        )"
   ]
  },
  {
   "cell_type": "markdown",
   "id": "9e484d52-a505-4a50-a1d5-4356c9b145d6",
   "metadata": {},
   "source": [
    "We have created a class called `Counter`, its only purpose here is to count the number of objects created out of it. `no_of_objects_created` is the class attribute here. Initially it's value is 0, for every object created of `Counter` class, `no_of_objects_created` gets increased by 1."
   ]
  },
  {
   "cell_type": "code",
   "execution_count": null,
   "id": "6e8e6035-29f7-48ed-a926-f7f2e0d2267d",
   "metadata": {},
   "outputs": [],
   "source": [
    "Counter.no_of_objects_created"
   ]
  },
  {
   "cell_type": "code",
   "execution_count": null,
   "id": "70ac611f-7688-40be-81ce-71803ac6b6e9",
   "metadata": {},
   "outputs": [],
   "source": [
    "counter_1 = Counter()\n",
    "counter_2 = Counter()"
   ]
  },
  {
   "cell_type": "markdown",
   "id": "35b77725-6b30-49d6-9613-46f0ce15b9d5",
   "metadata": {},
   "source": [
    "🏆 We did it, we created a class `Counter` which counts number of objects created."
   ]
  },
  {
   "cell_type": "markdown",
   "id": "311fc302-8f0e-4512-bbad-82ebc73e53c6",
   "metadata": {},
   "source": [
    "In the above example to access the class attribute we used `Counter.no_of_objects_created` which is `<Class>.<class_attribute>`, There's another way to access it using `self`. Let's give it a try:"
   ]
  },
  {
   "cell_type": "code",
   "execution_count": null,
   "id": "cd38ddf6-0850-493a-9ebc-7ae826b3d0d7",
   "metadata": {},
   "outputs": [],
   "source": [
    "class NewCounter:\n",
    "    no_of_objects_created = 0\n",
    "\n",
    "    def __init__(self):\n",
    "        self.no_of_objects_created += 1\n",
    "        print(\n",
    "            f\"Number of objects created of Counter class are: {self.no_of_objects_created}\"\n",
    "        )"
   ]
  },
  {
   "cell_type": "code",
   "execution_count": null,
   "id": "08b3a9c1-4792-40eb-b3f2-6d87a1bd0ed2",
   "metadata": {},
   "outputs": [],
   "source": [
    "new_counter_1 = NewCounter()\n",
    "new_counter_2 = NewCounter()"
   ]
  },
  {
   "cell_type": "markdown",
   "id": "2f7a0fa0-8229-48f9-8961-e2935586db92",
   "metadata": {},
   "source": [
    "😰 Did it work? **No**❌, We see that the output is always **1**, The culprit here is again **Shadowing of class attributes as instance attributes**"
   ]
  },
  {
   "cell_type": "markdown",
   "id": "d1e938e9-4c41-429b-910f-0ec5794c742c",
   "metadata": {},
   "source": [
    "```{note}\n",
    "So should we always use `<Class>.<class_attribute>` instead of `self.<class_attribute>` 🤔? We can use either way while **reading** the class attribute. But, If we want to **alter** the class attribute, we should be using `<Class>.<class_attribute>` to cascade the change to all the objects.\n",
    "\n",
    "There's no advantage of using class attributes if there are chances of altering only for a particular instance using `self`, so hard rule is use `<Class>.<class_attribute>` for accessing the class within the class 😤.\n",
    "```"
   ]
  }
 ],
 "metadata": {
  "kernelspec": {
   "display_name": "Python 3 (ipykernel)",
   "language": "python",
   "name": "python3"
  },
  "language_info": {
   "codemirror_mode": {
    "name": "ipython",
    "version": 3
   },
   "file_extension": ".py",
   "mimetype": "text/x-python",
   "name": "python",
   "nbconvert_exporter": "python",
   "pygments_lexer": "ipython3",
   "version": "3.9.7"
  }
 },
 "nbformat": 4,
 "nbformat_minor": 5
}
