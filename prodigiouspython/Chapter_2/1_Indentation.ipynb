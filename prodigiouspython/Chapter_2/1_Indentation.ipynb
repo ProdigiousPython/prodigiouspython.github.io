{
 "cells": [
  {
   "cell_type": "markdown",
   "id": "bottom-thesaurus",
   "metadata": {},
   "source": [
    "# Indentation"
   ]
  },
  {
   "cell_type": "markdown",
   "id": "victorian-contrast",
   "metadata": {},
   "source": [
    "I have seen memes of people fighting about opening braces, whether they should be starting in the same line or in next line in the programming languages like C, Java etc... 👻"
   ]
  },
  {
   "cell_type": "markdown",
   "id": "increased-career",
   "metadata": {},
   "source": [
    "![Types of using curly braces](https://github.com/ProdigiousPython/AssetStore/blob/main/Chapters_1-5/Chapter_2/resources/type_of_using_curly_braces.jpg?raw=true)"
   ]
  },
  {
   "cell_type": "markdown",
   "id": "motivated-tsunami",
   "metadata": {},
   "source": [
    "**Python Developers be like:** Hold my Beer 🍺"
   ]
  },
  {
   "cell_type": "markdown",
   "id": "comfortable-hygiene",
   "metadata": {},
   "source": [
    "![Python developers: we don't do that here](https://github.com/ProdigiousPython/AssetStore/blob/main/Chapters_1-5/Chapter_2/resources/curly_braces_we_dont_do_that_here.jpg?raw=true)"
   ]
  },
  {
   "cell_type": "markdown",
   "id": "disturbed-monitor",
   "metadata": {},
   "source": [
    "In Python, we don't use curly braces for grouping the statements. Instead, we use Indentation.\n",
    "\n",
    "Each group of statements are indented using spaces or tabs."
   ]
  },
  {
   "cell_type": "code",
   "execution_count": null,
   "id": "regional-links",
   "metadata": {},
   "outputs": [],
   "source": [
    "class Example:\n",
    "    # Every method belonging to a class must be indented equally.\n",
    "    def __init__(self):\n",
    "        name = \"indentation example\"\n",
    "\n",
    "    def check_for_odd_or_even(self, number: int):\n",
    "        # Everything that belongs to this method are indented as well.\n",
    "        if number % 2 == 0:\n",
    "            print(f\"{number} is even.\")\n",
    "        else:\n",
    "            print(f\"{number} is odd.\")\n",
    "\n",
    "\n",
    "# We can see that the say_hello_multiple_times is not indented inside the Example class.\n",
    "# Hence, say_hello_multiple_times function doesn't belong to Example class.\n",
    "def say_hello_multiple_times(count: int):\n",
    "    for _ in range(count):\n",
    "        # Loops or conditions are also needed to be intended.\n",
    "        print(\"Hello\")"
   ]
  },
  {
   "cell_type": "markdown",
   "id": "invalid-timing",
   "metadata": {
    "tags": []
   },
   "source": [
    "[PEP-8](https://www.python.org/dev/peps/pep-0008/) recommends to use **4 Spaces instead of Tabs**. Although using of Tabs do work, but ensure **not** to mix both tabs and spaces, as you might get `TabError` for such indentations."
   ]
  },
  {
   "cell_type": "markdown",
   "id": "southern-graham",
   "metadata": {},
   "source": [
    "## A meme on indentation 😜"
   ]
  },
  {
   "cell_type": "markdown",
   "id": "computational-communication",
   "metadata": {},
   "source": [
    "If using a normal text editor like notepad where it doesn't show the warnings or errors, sometimes we might get errors due to wrong indentation or mix usage of both tabs and spaces, we get an error and it would be tricky to resolve it as it is invisible."
   ]
  },
  {
   "cell_type": "markdown",
   "id": "pleasant-weather",
   "metadata": {},
   "source": [
    "![Get Error for extra space](https://github.com/ProdigiousPython/AssetStore/blob/main/Chapters_1-5/Chapter_2/resources/funny_get_errors_for_extra_space.jpg?raw=true)"
   ]
  }
 ],
 "metadata": {
  "kernelspec": {
   "display_name": "Python 3 (ipykernel)",
   "language": "python",
   "name": "python3"
  },
  "language_info": {
   "codemirror_mode": {
    "name": "ipython",
    "version": 3
   },
   "file_extension": ".py",
   "mimetype": "text/x-python",
   "name": "python",
   "nbconvert_exporter": "python",
   "pygments_lexer": "ipython3",
   "version": "3.9.5"
  }
 },
 "nbformat": 4,
 "nbformat_minor": 5
}
