{
 "cells": [
  {
   "cell_type": "markdown",
   "id": "887b471d-775c-4887-bb93-f259c6dbbccc",
   "metadata": {},
   "source": [
    "# Positional Arguments"
   ]
  },
  {
   "cell_type": "code",
   "execution_count": null,
   "id": "ab7cceac-88d4-427d-aaf0-dbad6dbdbbb0",
   "metadata": {},
   "outputs": [],
   "source": [
    "def add(operand_1, operand_2):\n",
    "    print(f\"The sum of {operand_1} and {operand_2} is {operand_1 + operand_2}\")"
   ]
  },
  {
   "cell_type": "markdown",
   "id": "bf5f9c59-85d5-4117-85dc-4d245750b02d",
   "metadata": {},
   "source": [
    "Yipeee! we have created a new function called add which is expected to add two integers values, Just kidding 😜, thanks to the dynamic typing of the Python, we can even add float values, concat strings and many more using our `add` function, but for now, let's stick with the addition of integers 😎"
   ]
  },
  {
   "cell_type": "code",
   "execution_count": null,
   "id": "df50f042-5477-48fe-a6cc-054966f58d8f",
   "metadata": {},
   "outputs": [],
   "source": [
    "add(1, 3)"
   ]
  },
  {
   "cell_type": "markdown",
   "id": "6ba3b647-bbcd-45f7-9923-53a7e78066fd",
   "metadata": {},
   "source": [
    "Yup, we did got our result ⭐️. what if I forget passing a value? we would see a `TypeError` exception raised 👻"
   ]
  },
  {
   "cell_type": "code",
   "execution_count": null,
   "id": "cdc103e2-817c-4406-a35d-d0710ad50014",
   "metadata": {},
   "outputs": [],
   "source": [
    "add(1)"
   ]
  },
  {
   "cell_type": "markdown",
   "id": "09f0e345-437b-4b41-8827-64fbff165af1",
   "metadata": {},
   "source": [
    "The name **Positional arguments** itself says the arguments should be according to the function signature. But here's a deal, we can change the order of arguments being passed, just that we should pass them with the respective keyword 🙂"
   ]
  },
  {
   "cell_type": "markdown",
   "id": "a2416401-b804-49cd-b075-a628a724a343",
   "metadata": {},
   "source": [
    "`Example`"
   ]
  },
  {
   "cell_type": "code",
   "execution_count": null,
   "id": "a49a780c-7a1d-496c-b28a-274c5b1aef83",
   "metadata": {},
   "outputs": [],
   "source": [
    "def difference(a, b):\n",
    "    print(f\"The difference of {b} from {a} is {a - b}\")"
   ]
  },
  {
   "cell_type": "code",
   "execution_count": null,
   "id": "4f17a019-0023-4e7d-9443-e50e96ae4dc5",
   "metadata": {},
   "outputs": [],
   "source": [
    "difference(5, 8)"
   ]
  },
  {
   "cell_type": "code",
   "execution_count": null,
   "id": "3b880a9a-f8ca-4760-b514-efdc1ca2c6e0",
   "metadata": {},
   "outputs": [],
   "source": [
    "difference(b=8, a=5)  # Positions are swapped, but passing the objects as keywords."
   ]
  },
  {
   "cell_type": "markdown",
   "id": "03a14240-55f5-49aa-8be9-456303854a5d",
   "metadata": {},
   "source": [
    "We can see in the above example that even if the positions are changed, but as we have are passing them through keywords, the result remains the same. ⭐️"
   ]
  },
  {
   "cell_type": "markdown",
   "id": "2ec7b4a5-82f2-42be-815b-fb37722ad7ae",
   "metadata": {},
   "source": [
    "## Position only arguments"
   ]
  },
  {
   "cell_type": "markdown",
   "id": "14773f58-21f2-4333-8e2f-a5c0b05b4276",
   "metadata": {},
   "source": [
    "We do have the power ✊ to make the user call the function's position only arguments the way we want, Thanks to [PEP-570](https://www.python.org/dev/peps/pep-0570/) for Python >= 3.8"
   ]
  },
  {
   "cell_type": "markdown",
   "id": "bdfd8543-f855-402b-8a47-469927584cf9",
   "metadata": {},
   "source": [
    "The syntax defined by the PEP-570 regarding Position only arguments is as:"
   ]
  },
  {
   "cell_type": "markdown",
   "id": "ce4c5768-0a49-4c0c-9d3e-d4ffaaae4a24",
   "metadata": {},
   "source": [
    "\n",
    "```Python\n",
    "def name(positional_only_parameters, /, positional_or_keyword_parameters, *, keyword_only_parameters):\n",
    "```"
   ]
  },
  {
   "cell_type": "code",
   "execution_count": null,
   "id": "3322791d-1adb-4c16-a002-8a7e4d5ccc01",
   "metadata": {},
   "outputs": [],
   "source": [
    "def greet(greet_word, /, name_of_the_user):\n",
    "    print(f\"{greet_word} {name_of_the_user}!\")"
   ]
  },
  {
   "cell_type": "markdown",
   "id": "ca68a9c9-773f-4c85-9a16-b098ed189e2d",
   "metadata": {},
   "source": [
    "In the above example, we do have two arguments `greet_word` and `name_of_the_user` we used **`/`** to say that **Hey Python! Consider `greet_word` as Positional only Argument**"
   ]
  },
  {
   "cell_type": "markdown",
   "id": "a225516b-83f8-406d-aa67-2ad12b69b63e",
   "metadata": {},
   "source": [
    "When we try to call our function `greet` with greet_word as keyword name, Boom 💣, we get a `TypeError` exception."
   ]
  },
  {
   "cell_type": "code",
   "execution_count": null,
   "id": "4de467e1-5537-4984-b2a8-6526d9e818d1",
   "metadata": {},
   "outputs": [],
   "source": [
    "greet(greet_word=\"Hello\", name_of_the_user=\"Pythonist\")"
   ]
  },
  {
   "cell_type": "markdown",
   "id": "fef13a20-caf3-4c22-b02e-6c00a7ff913d",
   "metadata": {},
   "source": [
    "Try to call our `greet` with `greet_word` as positional only argument, meaning not passing it by keyword name. We can hope that there won't be any exception raised. 😁"
   ]
  },
  {
   "cell_type": "code",
   "execution_count": null,
   "id": "03355df5-c337-4270-9e3c-ea4bb6b771f4",
   "metadata": {},
   "outputs": [],
   "source": [
    "# Calling greet function with name_of_the_user as Positional keyword.\n",
    "greet(\"Hello\", \"Pythonist\")\n",
    "\n",
    "# Calling greet function with name_of_the_user with keyword name.\n",
    "greet(\"Hello\", name_of_the_user=\"Pythoneer😍\")"
   ]
  }
 ],
 "metadata": {
  "kernelspec": {
   "display_name": "Python 3 (ipykernel)",
   "language": "python",
   "name": "python3"
  },
  "language_info": {
   "codemirror_mode": {
    "name": "ipython",
    "version": 3
   },
   "file_extension": ".py",
   "mimetype": "text/x-python",
   "name": "python",
   "nbconvert_exporter": "python",
   "pygments_lexer": "ipython3",
   "version": "3.9.5"
  }
 },
 "nbformat": 4,
 "nbformat_minor": 5
}
