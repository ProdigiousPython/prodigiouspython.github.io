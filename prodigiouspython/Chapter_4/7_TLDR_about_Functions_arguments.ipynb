{
 "cells": [
  {
   "cell_type": "markdown",
   "id": "db55a942-3cc3-49f2-ad3d-489b1fd79cd9",
   "metadata": {},
   "source": [
    "# TLDR regarding function arguments 💡"
   ]
  },
  {
   "cell_type": "markdown",
   "id": "f140c3ed-79a4-4d39-a6b9-e7910e13dbbb",
   "metadata": {},
   "source": [
    "Till now we have seen all the 4 types of arguments that we can use in functions."
   ]
  },
  {
   "cell_type": "markdown",
   "id": "a87b850e-5c81-47d8-91ba-f9cf395ee43f",
   "metadata": {},
   "source": [
    "* Positional Arguments\n",
    "* Unnamed positional Arguments / VarArgs\n",
    "* Keyword-only Arguments \n",
    "* Keyword arguments / Varkwargs"
   ]
  },
  {
   "cell_type": "markdown",
   "id": "579c037c-29b3-47fb-8abd-0ac39b982a5e",
   "metadata": {},
   "source": [
    "Let's give it a shot with all the above arguments in a function 😎"
   ]
  },
  {
   "cell_type": "markdown",
   "id": "206bef4e-ba8f-460d-ba3e-575047e48e08",
   "metadata": {},
   "source": [
    "The complete syntax of a function eliding varargs and keyword arguments defined in [PEP-570](https://www.python.org/dev/peps/pep-0570/) would be as:\n",
    "\n",
    "```Python\n",
    "def name(positional_only_parameters, /, positional_or_keyword_parameters, *, keyword_only_parameters):\n",
    "```"
   ]
  },
  {
   "cell_type": "markdown",
   "id": "0a1c54d4-7642-45c8-99f3-286b58835a53",
   "metadata": {},
   "source": [
    "`Example:`"
   ]
  },
  {
   "cell_type": "markdown",
   "id": "48e886d8-e5f4-4483-88e9-ac6cb1268fde",
   "metadata": {},
   "source": [
    "Let's build a complete function with all the types of arguments 😎."
   ]
  },
  {
   "cell_type": "code",
   "execution_count": null,
   "id": "9bcd716b-a3db-4d5a-a814-b39269be2b4b",
   "metadata": {},
   "outputs": [],
   "source": [
    "def function(positional_only, /, position=\"🐍\", *varargs, keyword_only, **keyword):\n",
    "    print(f\"{positional_only=}\")\n",
    "    print(f\"{position=}\")\n",
    "    print(f\"{varargs=}\")\n",
    "    print(f\"{keyword_only=}\")\n",
    "    print(f\"{keyword=}\")\n",
    "\n",
    "    # datatype of varargs and keyword.\n",
    "    print(f\"The datatype of varargs is {type(varargs)}\")\n",
    "    print(f\"The datatype of keyword is {type(keyword)}\")"
   ]
  },
  {
   "cell_type": "markdown",
   "id": "f77fd9bb-2c5f-48b7-8e1e-9facc48fb6aa",
   "metadata": {},
   "source": [
    "Let's call our beautiful function ♥️"
   ]
  },
  {
   "cell_type": "code",
   "execution_count": null,
   "id": "d76cd224-d6b9-4282-8e50-01de3ca89388",
   "metadata": {},
   "outputs": [],
   "source": [
    "function(\n",
    "    \"Python\",\n",
    "    \"♥️\",\n",
    "    \"Python\",\n",
    "    \"is\",\n",
    "    \"Cool\",\n",
    "    keyword_only=\"😋\",\n",
    "    key1=\"value1\",\n",
    "    key2=\"value2\",\n",
    ")"
   ]
  },
  {
   "cell_type": "markdown",
   "id": "f12ebee9-95fc-43ae-9867-46b627e45b2a",
   "metadata": {},
   "source": [
    "The above calling of function can also be written as:"
   ]
  },
  {
   "cell_type": "code",
   "execution_count": null,
   "id": "0b0c8149-ecba-4ad5-bf3b-c1a4b691e7c2",
   "metadata": {},
   "outputs": [],
   "source": [
    "function(\n",
    "    \"Python\",\n",
    "    \"♥️\",\n",
    "    *[\"Python\", \"is\", \"Cool\"],\n",
    "    keyword_only=\"😋\",\n",
    "    **{\"key1\": \"value1\", \"key2\": \"value2\"},\n",
    ")  # Unpacking."
   ]
  },
  {
   "cell_type": "markdown",
   "id": "2361d1d7-6473-4357-a469-5c0f264a5f2f",
   "metadata": {},
   "source": [
    "Let's make `position` be it's default value."
   ]
  },
  {
   "cell_type": "code",
   "execution_count": null,
   "id": "124f91ad-10fa-4b1a-9338-38ad81918400",
   "metadata": {},
   "outputs": [],
   "source": [
    "function(\n",
    "    \"Python\",\n",
    "    *[\"Python\", \"is\", \"Cool\"],\n",
    "    keyword_only=\"😋\",\n",
    "    **{\"key1\": \"value1\", \"key2\": \"value2\"},\n",
    ")"
   ]
  },
  {
   "cell_type": "markdown",
   "id": "a2e6af89-d1ab-43d4-a0e1-9a311b0d113f",
   "metadata": {},
   "source": [
    "Ouch, we see that `position` has taken the `Python` as it's value which we intended to be one of the value of our `varargs`. The solution for this is to pass our `*[\"Python\", \"is\", \"Cool\"]` as keyword argument like `varargs=[\"Python\", \"is\", \"Cool\"]`. **NOTE** that there won't be unpacking symbol `*` here."
   ]
  },
  {
   "cell_type": "code",
   "execution_count": null,
   "id": "d32aba66-1621-4c31-986a-8d5fff85e726",
   "metadata": {},
   "outputs": [],
   "source": [
    "function(\n",
    "    \"Python\",\n",
    "    varargs=[\"Python\", \"is\", \"Cool\"],\n",
    "    keyword_only=\"😋\",\n",
    "    **{\"key1\": \"value1\", \"key2\": \"value2\"},\n",
    ")"
   ]
  },
  {
   "cell_type": "markdown",
   "id": "3ad597cd-7af7-43bb-802b-85849e86fcb5",
   "metadata": {},
   "source": [
    "We can even notice that in the above example, we have passed `varargs=[\"Python\", \"is\", \"Cool\"]`, but in the output the datatype of varargs is printed as tuple. Not just in above example, in all the above examples, we can see that `varargs` is `tuple` and `keyword` is `dictionary`."
   ]
  },
  {
   "cell_type": "markdown",
   "id": "3bcfdaaa-3c1b-46d2-a895-bba6704a98f6",
   "metadata": {},
   "source": [
    "💡 Unnamed Positional arguments datatype is always tuple and keyword argument datatype is always dictionary ."
   ]
  }
 ],
 "metadata": {
  "kernelspec": {
   "display_name": "Python 3 (ipykernel)",
   "language": "python",
   "name": "python3"
  },
  "language_info": {
   "codemirror_mode": {
    "name": "ipython",
    "version": 3
   },
   "file_extension": ".py",
   "mimetype": "text/x-python",
   "name": "python",
   "nbconvert_exporter": "python",
   "pygments_lexer": "ipython3",
   "version": "3.9.5"
  }
 },
 "nbformat": 4,
 "nbformat_minor": 5
}
