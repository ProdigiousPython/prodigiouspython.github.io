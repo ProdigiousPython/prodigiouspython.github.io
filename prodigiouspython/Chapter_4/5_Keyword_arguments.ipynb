{
 "cells": [
  {
   "cell_type": "markdown",
   "id": "3437bc14-2c62-46f5-b7a7-0d943dbc5f83",
   "metadata": {},
   "source": [
    "# Keyword arguments"
   ]
  },
  {
   "cell_type": "markdown",
   "id": "3b1ba7ee-a651-4cd3-bf84-4addf89f4cc3",
   "metadata": {},
   "source": [
    "The Keyword Arguments name suggests that they are called through names when calling the function."
   ]
  },
  {
   "cell_type": "markdown",
   "id": "d6e5eef6-ddcd-40f5-ae90-19d8db90f8ec",
   "metadata": {},
   "source": [
    "As we saw Unnamed Positional arguments already, Keyword arguments are similar, they can be passed any number of objects, the only difference would be they needed to be passed with keyword names. To define the keyword arguments in a function signature, we need to prefix `**` for the argument."
   ]
  },
  {
   "cell_type": "code",
   "execution_count": null,
   "id": "88feff50-d8da-449d-9b8c-b022235bff88",
   "metadata": {},
   "outputs": [],
   "source": [
    "def example_keyword_arguments(**kwargs):\n",
    "    print(kwargs)"
   ]
  },
  {
   "cell_type": "code",
   "execution_count": null,
   "id": "0805b2da-1c05-4987-9581-10ec49739110",
   "metadata": {},
   "outputs": [],
   "source": [
    "example_keyword_arguments(key1=\"value1\", key2=\"value2\")"
   ]
  },
  {
   "cell_type": "markdown",
   "id": "a596025e-6075-4924-8bdc-ad9329bd6a2e",
   "metadata": {},
   "source": [
    "We can even pass a dictionary as well 😎, just that we need to pass the dictionary with unpacking them as `**`"
   ]
  },
  {
   "cell_type": "code",
   "execution_count": null,
   "id": "9afc40a8-cc75-4347-8244-e31375fbec52",
   "metadata": {},
   "outputs": [],
   "source": [
    "my_dictionary = {\"key1\": \"value1\", \"key2\": \"value2\"}\n",
    "example_keyword_arguments(**my_dictionary)"
   ]
  },
  {
   "cell_type": "markdown",
   "id": "59191a6a-2a6a-4001-97af-6f60a2595f15",
   "metadata": {},
   "source": [
    "If we try to pass objects as positional parameters, we would be seeing our friend `TypeError` being raised 👻"
   ]
  },
  {
   "cell_type": "code",
   "execution_count": null,
   "id": "5d6a5031-4708-4039-9e28-60d96c361a95",
   "metadata": {},
   "outputs": [],
   "source": [
    "example_keyword_arguments(\"Hello\")"
   ]
  }
 ],
 "metadata": {
  "kernelspec": {
   "display_name": "Python 3 (ipykernel)",
   "language": "python",
   "name": "python3"
  },
  "language_info": {
   "codemirror_mode": {
    "name": "ipython",
    "version": 3
   },
   "file_extension": ".py",
   "mimetype": "text/x-python",
   "name": "python",
   "nbconvert_exporter": "python",
   "pygments_lexer": "ipython3",
   "version": "3.9.5"
  }
 },
 "nbformat": 4,
 "nbformat_minor": 5
}
