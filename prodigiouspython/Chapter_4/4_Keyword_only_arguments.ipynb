{
 "cells": [
  {
   "cell_type": "markdown",
   "id": "e08052e2-be6f-43e9-a7ce-7943ff7d0410",
   "metadata": {},
   "source": [
    "# Keyword-only arguments"
   ]
  },
  {
   "cell_type": "markdown",
   "id": "fe05d105-d389-4e86-9aa9-297abe6c206f",
   "metadata": {},
   "source": [
    "Few times being explicit is better which increases the readability of code. If a function signature has Keyword-only arguments, then while calling the function, we need to pass our objects by their keyword names. [PEP-3102](https://www.python.org/dev/peps/pep-3102/) defines the Keyword-only arguments."
   ]
  },
  {
   "cell_type": "markdown",
   "id": "3274aaf2-f68a-415e-9695-b0b4a5a06468",
   "metadata": {},
   "source": [
    "Well, how to define the keyword only arguments 🤔? In the previous lesson about Positional Arguments we have seen that Positional-only Arguments whose function signature is created by using `/`. Similarly for Keyword-only Argument, we use `*` in the signature."
   ]
  },
  {
   "cell_type": "markdown",
   "id": "82e9fa91-ba86-48f5-b289-fb25166f1ea5",
   "metadata": {},
   "source": [
    "\n",
    "```Python\n",
    "def keyword_only_argument_signature(*, arg1, arg2):\n",
    "    ...\n",
    "```"
   ]
  },
  {
   "cell_type": "markdown",
   "id": "19ad9f6d-2a2f-420a-b09e-0e97c193dc62",
   "metadata": {},
   "source": [
    "`Example:`"
   ]
  },
  {
   "cell_type": "code",
   "execution_count": null,
   "id": "d55c0d46-0462-4e27-9b6e-438bd9c0eb2e",
   "metadata": {},
   "outputs": [],
   "source": [
    "def greet(*, greet_word, name):\n",
    "    print(f\"{greet_word} {name}!\")"
   ]
  },
  {
   "cell_type": "markdown",
   "id": "9cbf225b-614b-417a-b3e0-eebfa5d74590",
   "metadata": {},
   "source": [
    "Now if we want to try calling our new function `greet` as `greet(\"Hello\", \"Pythonist♥️\")`, we should be seeing a `TypeError`."
   ]
  },
  {
   "cell_type": "code",
   "execution_count": null,
   "id": "f145b73e-e540-4f06-81db-c93903c9ea6e",
   "metadata": {},
   "outputs": [],
   "source": [
    "greet(\"Hello\", \"Pythonist ♥️\")"
   ]
  },
  {
   "cell_type": "markdown",
   "id": "01038118-d525-4728-bb90-fb19f8184a06",
   "metadata": {},
   "source": [
    "The only way we can call our `greet` function is by passing our both `greet_word` and `name` values with keyword names."
   ]
  },
  {
   "cell_type": "code",
   "execution_count": null,
   "id": "1108c59f-67a6-4aef-a4ef-cb46f84e0423",
   "metadata": {},
   "outputs": [],
   "source": [
    "greet(greet_word=\"Hello\", name=\"Pythonist ♥️\")"
   ]
  }
 ],
 "metadata": {
  "kernelspec": {
   "display_name": "Python 3 (ipykernel)",
   "language": "python",
   "name": "python3"
  },
  "language_info": {
   "codemirror_mode": {
    "name": "ipython",
    "version": 3
   },
   "file_extension": ".py",
   "mimetype": "text/x-python",
   "name": "python",
   "nbconvert_exporter": "python",
   "pygments_lexer": "ipython3",
   "version": "3.9.5"
  }
 },
 "nbformat": 4,
 "nbformat_minor": 5
}
