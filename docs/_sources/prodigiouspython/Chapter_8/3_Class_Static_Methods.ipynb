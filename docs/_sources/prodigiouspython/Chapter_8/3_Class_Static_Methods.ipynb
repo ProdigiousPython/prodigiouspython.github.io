{
 "cells": [
  {
   "cell_type": "markdown",
   "id": "945f8333-09ad-4b4e-b03e-cbe1cbaced57",
   "metadata": {},
   "source": [
    "# ClassMethod and StaticMethod"
   ]
  },
  {
   "cell_type": "markdown",
   "id": "9c056145-cda0-4ef8-8b4d-41fd8bb93ba0",
   "metadata": {},
   "source": [
    "## ClassMethod"
   ]
  },
  {
   "cell_type": "markdown",
   "id": "38770d21-937b-4873-bcce-a93daeee1827",
   "metadata": {},
   "source": [
    "## StaticMethod"
   ]
  },
  {
   "cell_type": "markdown",
   "id": "a3fdce0c-78e0-439c-93ea-610356bfc172",
   "metadata": {},
   "source": [
    "StaticMethods are simple regular functions but are within the namespace/scope of the class. "
   ]
  },
  {
   "cell_type": "markdown",
   "id": "bb4f57d7-b874-427f-a976-2b32375ee4bd",
   "metadata": {},
   "source": [
    "The Static methods are created using the decorator `staticmethod`."
   ]
  },
  {
   "cell_type": "code",
   "execution_count": null,
   "id": "e785758b-8ef9-4920-9fdf-5d0f0d9d8976",
   "metadata": {
    "tags": []
   },
   "outputs": [],
   "source": [
    "class StaticMethodExample:\n",
    "    @staticmethod\n",
    "    def do_something():\n",
    "        "
   ]
  },
  {
   "cell_type": "code",
   "execution_count": null,
   "id": "87f2b054-fbab-4bdb-b01c-ef66d5bdb869",
   "metadata": {},
   "outputs": [],
   "source": [
    "class Anime:\n",
    "    list_of_animes = []\n",
    "\n",
    "    def __init__(self, name, characters):\n",
    "        self.name = name\n",
    "        self.characters = characters\n",
    "        Anime.list_of_animes.append(name)\n",
    "\n",
    "    def introduce(self):  # Instance Method.\n",
    "        print(\n",
    "            f\"Hey weebs! We are {self.name}. We have awesome characters: {self.characters} 🔥\"\n",
    "        )\n",
    "\n",
    "    @classmethod\n",
    "    def show_list_and_count_of_animes(cls):  # Class Method.\n",
    "        print(\n",
    "            f\"Animes listed are: {cls.list_of_animes} which sums up to {len(cls.list_of_animes)}\"\n",
    "        )\n",
    "\n",
    "    @staticmethod\n",
    "    def temp():\n",
    "        return Anime.list_of_animes, __class__.list_of_animes"
   ]
  },
  {
   "cell_type": "code",
   "execution_count": null,
   "id": "2bed91ec-a06a-4918-b224-7b65f41f4121",
   "metadata": {},
   "outputs": [],
   "source": [
    "a = Anime(\"one piece\", (\"luffy\",))\n",
    "b = Anime(\"naruto\", (\"naruto\",))"
   ]
  },
  {
   "cell_type": "markdown",
   "id": "191cc8fb-0708-497c-b76d-d1e3d52118b1",
   "metadata": {},
   "source": [
    "| Method type          | Can modify Class Attribute?   | Can modify Method Attribute?|\n",
    "|----------------------|-------------------------------|-----------------------------|\n",
    "|   Instance Method    | ✅                            | ✅                          |\n",
    "|   Class Method       | ✅                            | ❌                          |\n",
    "|   Static Method      | ❌                            | ❌                          |"
   ]
  },
  {
   "cell_type": "markdown",
   "id": "a14d5dd8-438f-44b5-929c-9f6391c67ae3",
   "metadata": {},
   "source": [
    "```{note}\n",
    "Don't curse me saying, Hey! I can still modify class attributes from Static Method. Yes, we can absolutely do it using the class as `<ClassName>.<class_attribute>`, but we wouldn't be having class \n",
    "```"
   ]
  }
 ],
 "metadata": {
  "kernelspec": {
   "display_name": "Python 3 (ipykernel)",
   "language": "python",
   "name": "python3"
  },
  "language_info": {
   "codemirror_mode": {
    "name": "ipython",
    "version": 3
   },
   "file_extension": ".py",
   "mimetype": "text/x-python",
   "name": "python",
   "nbconvert_exporter": "python",
   "pygments_lexer": "ipython3",
   "version": "3.9.7"
  }
 },
 "nbformat": 4,
 "nbformat_minor": 5
}
