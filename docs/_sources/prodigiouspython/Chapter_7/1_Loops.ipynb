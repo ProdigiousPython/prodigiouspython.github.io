{
 "cells": [
  {
   "cell_type": "markdown",
   "id": "a450dcc2-1dd5-4ee0-8534-12d6b774a7d7",
   "metadata": {},
   "source": [
    "# Loops"
   ]
  },
  {
   "cell_type": "markdown",
   "id": "3a1d5c92-955f-4cc0-8688-e64e66d7b90b",
   "metadata": {},
   "source": [
    "I just had an heated argument 🔥 with my girlfriend. I need to write 5 times **I love you ❤️** as punishment. Let's start writing 🙁"
   ]
  },
  {
   "cell_type": "code",
   "execution_count": null,
   "id": "89ac49ab-46b5-46a1-bd29-aacb13749f5b",
   "metadata": {
    "collapsed": true,
    "jupyter": {
     "outputs_hidden": true,
     "source_hidden": true
    },
    "tags": []
   },
   "outputs": [],
   "source": [
    "print(\"I love you ❤️\")\n",
    "print(\"I love you ❤️\")\n",
    "print(\"I love you ❤️\")\n",
    "print(\"I love you ❤️\")\n",
    "print(\"I love you ❤️\")"
   ]
  },
  {
   "cell_type": "markdown",
   "id": "0568c392-3aa8-48c8-9bc8-7872caa965a9",
   "metadata": {},
   "source": [
    "That was pretty easy, it just took me couples of seconds. But what if she asks for 100 times, or 1000 times, I am doomed 😱"
   ]
  },
  {
   "cell_type": "markdown",
   "id": "69db4a0c-1d37-40b1-b3e2-59aa587b50a9",
   "metadata": {},
   "source": [
    "Here comes our saviours **Loops**. Let's do the same, but using a loop."
   ]
  },
  {
   "cell_type": "code",
   "execution_count": null,
   "id": "911ef9a5-3d64-46db-ab8f-da25aed3cb8d",
   "metadata": {
    "collapsed": true,
    "jupyter": {
     "outputs_hidden": true,
     "source_hidden": true
    },
    "tags": []
   },
   "outputs": [],
   "source": [
    "count = 0\n",
    "while count < 5:\n",
    "    count += 1\n",
    "    print(\"I love you ❤️\")"
   ]
  },
  {
   "cell_type": "markdown",
   "id": "478f701c-d605-4a5d-a56c-626e32eaafa0",
   "metadata": {},
   "source": [
    "Yup! we did it much easier, how crazy ever my girlfriend is and gives me punishment to write any number of times, I can just change the condition of while loop as `count < <number>`."
   ]
  },
  {
   "cell_type": "markdown",
   "id": "75833899-a863-476d-bd35-33ff778f5c4a",
   "metadata": {},
   "source": [
    "```{error}\n",
    "404: My Girlfriend neither found nor exists.😬\n",
    "```"
   ]
  },
  {
   "cell_type": "markdown",
   "id": "9bec1778-5235-4d25-ad44-1396bad40164",
   "metadata": {
    "jupyter": {
     "source_hidden": true
    },
    "tags": []
   },
   "source": [
    "Basically loops are used to execute a block of code repeatedly, until a break condition is satisfied. Break condition is not required unless we want to run an infinite loop 🙄."
   ]
  },
  {
   "cell_type": "markdown",
   "id": "ef8c9734-714f-4789-a9ff-ff5d1bad2bbc",
   "metadata": {},
   "source": [
    "We have two ways to build loops in Python:"
   ]
  },
  {
   "cell_type": "markdown",
   "id": "acebf941-bb5b-4d97-8660-59b84e3fcd6f",
   "metadata": {},
   "source": [
    "* `while`\n",
    "* `for`"
   ]
  },
  {
   "cell_type": "markdown",
   "id": "4e8ff007-c6e4-43cc-be25-0ebbb8285d1a",
   "metadata": {},
   "source": [
    "To exit the loops explicitly, we can use `break` keyword. `break` keyword exits the right loop which it is indented in."
   ]
  },
  {
   "cell_type": "markdown",
   "id": "6eb2902f-eccd-487f-831e-b0d33f30798a",
   "metadata": {},
   "source": [
    "## `while`"
   ]
  },
  {
   "cell_type": "markdown",
   "id": "7bf38daf-fcb3-42e1-993b-0485f657b273",
   "metadata": {},
   "source": [
    "`while` loop also works based on the Truth values of the condition/object, if the truth value is `True`, then the loop continues to execute, else breaks the loop. The syntax of `while` loop is:"
   ]
  },
  {
   "cell_type": "markdown",
   "id": "52475a64-76ea-40ff-8bb8-2f24caeb5241",
   "metadata": {},
   "source": [
    "```Python\n",
    "while <condtion>:\n",
    "    ...\n",
    "```"
   ]
  },
  {
   "cell_type": "markdown",
   "id": "d24166a9-b472-4efc-86fc-b654d307b6e6",
   "metadata": {},
   "source": [
    "Yipeee! We have already use `while` loop in our first example. Let's see more examples."
   ]
  },
  {
   "cell_type": "markdown",
   "id": "cc3a21fb-f929-4f5f-ad9e-846ec4824c0f",
   "metadata": {},
   "source": [
    "let's find even numbers until 20."
   ]
  },
  {
   "cell_type": "code",
   "execution_count": null,
   "id": "b7bae953-c93c-4cf8-93dd-ad898cb65fff",
   "metadata": {},
   "outputs": [],
   "source": [
    "number = 0\n",
    "while number <= 20:\n",
    "    if number % 2 == 0:\n",
    "        print(f\"{number} is even.\")\n",
    "    number += 1"
   ]
  },
  {
   "cell_type": "markdown",
   "id": "8512b014-f9d4-47a7-b330-c6a5ebc21e91",
   "metadata": {},
   "source": [
    "We dit it 😎! let's get to the explanation phase:"
   ]
  },
  {
   "cell_type": "markdown",
   "id": "1fff903b-fa72-46a1-b64b-0b6db6f889a2",
   "metadata": {},
   "source": [
    "We have created a integer object `number` with value 0. We created a while loop with the condition as `number <= 20`, so until the `number` is greater than 20, the while loop continues to execute. we have a if condition `if number % 2 == 0:` that checks if the number is even, if the number is even, then prints saying the number is even, else skips."
   ]
  },
  {
   "cell_type": "markdown",
   "id": "e417e06e-4db1-4f19-862b-9bdbc23c49b8",
   "metadata": {},
   "source": [
    "`number += 1`, don't forget this unless you want to get into infinite loop 😬. For each iteration in `while` loop, `number` increments by 1, once the number is incremented to 21, the while loop breaks and doesn't execute anymore as it is resulting Falsy for the condition `number <= 20`."
   ]
  },
  {
   "cell_type": "markdown",
   "id": "032bc774-e1ae-40ee-8e60-c4a05d84dbac",
   "metadata": {},
   "source": [
    "## `for`"
   ]
  },
  {
   "cell_type": "markdown",
   "id": "5a49ba4b-b905-4553-b7d0-2c458ba8d418",
   "metadata": {},
   "source": [
    "We have another loop called `for`, which is used for iterating over the iterator or sequences like `list`, `tuple`, `str` etc.."
   ]
  },
  {
   "cell_type": "code",
   "execution_count": null,
   "id": "5ea7e65b-71f4-4dd2-b02e-165c0a019cd2",
   "metadata": {},
   "outputs": [],
   "source": [
    "my_list = [\"🐍\", \"🚀\", \"😊\"]\n",
    "for obj in my_list:\n",
    "    print(obj)"
   ]
  },
  {
   "cell_type": "markdown",
   "id": "daf72458-69e9-4331-bd6a-64e96b11eef9",
   "metadata": {},
   "source": [
    "We can even iterate over strings"
   ]
  },
  {
   "cell_type": "code",
   "execution_count": null,
   "id": "3ba846a2-31d1-48b6-9b6b-39cee4cd69e0",
   "metadata": {},
   "outputs": [],
   "source": [
    "for char in \"Python\":\n",
    "    print(char)"
   ]
  },
  {
   "cell_type": "markdown",
   "id": "e5fcd089-f9be-4d35-8655-c2759736ef9c",
   "metadata": {},
   "source": [
    "If we want to iterate over numbers, we can use the `range` function which generates the values in the given range."
   ]
  },
  {
   "cell_type": "markdown",
   "id": "9d357314-ec8d-4fc1-a2ee-861ce9f6ef2a",
   "metadata": {},
   "source": [
    "```{hint}\n",
    "`range` function can be called as `range(stop)` or `range(start, stop, step)`. For `range(stop)`, the iteration starts from 0 until stop(exclusive). For `range(start, stop, step)`, start can be any value and iterates until stop(exclusive) with step given, default step is 1.\n",
    "```"
   ]
  },
  {
   "cell_type": "code",
   "execution_count": null,
   "id": "c3ac9732-d805-464e-bf6b-481374b6a267",
   "metadata": {},
   "outputs": [],
   "source": [
    "for number in range(5, 15, 2):\n",
    "    print(number)"
   ]
  },
  {
   "cell_type": "markdown",
   "id": "7e027b17-14d3-4cbe-83b6-cea3b44e4b53",
   "metadata": {},
   "source": [
    "## Nested loops"
   ]
  },
  {
   "cell_type": "markdown",
   "id": "9a3fb9e6-afa8-4583-af09-5744427b2cd3",
   "metadata": {},
   "source": [
    "Just now my lecturer gave me an assignment to find factorial for a few numbers 2, 6, 7, 8, 9, 10. Might be my lecturer doesn't knew how easily we could use nested-loops to find the factorial of each number given."
   ]
  },
  {
   "cell_type": "markdown",
   "id": "544486ea-8a95-43f9-99f9-17fd137f00a9",
   "metadata": {},
   "source": [
    "First things first, what are nested-loops? The name itself is self explanatory 😎, loop containing a loop is called nested loop. Yup, we got to know about it. let's start solving the assignment ⚡️."
   ]
  },
  {
   "cell_type": "code",
   "execution_count": null,
   "id": "eda5ce4d-1d5d-4e0a-8941-a490f7fd3dea",
   "metadata": {},
   "outputs": [],
   "source": [
    "assignment_numbers = (2, 6, 7, 8, 9, 10)\n",
    "\n",
    "for number in assignment_numbers:  # First loop.\n",
    "    factorial = number\n",
    "    for num in range(1, number):  # Nested Loop.\n",
    "        factorial *= num\n",
    "    print(f\"Factorial of {number} is {factorial}\")"
   ]
  },
  {
   "cell_type": "markdown",
   "id": "8b6beef2-169e-4752-9412-a21e4870c764",
   "metadata": {},
   "source": [
    "Yup! We did it 😊! We used first `for` loop to iterate over each number which are given as in our assignment, in the nested for loop, we are ranging from 0 to the number(exclusive) and multiplying each number `num` in the nested for loop. Once the nested for loop is exhausted, we are printing the result for the factorial of the number. In this way nested loops work. Same applies to the `while` loops."
   ]
  },
  {
   "cell_type": "markdown",
   "id": "f08abc17-479e-4184-8f57-987fe350e535",
   "metadata": {},
   "source": [
    "## `break` and `continue`"
   ]
  },
  {
   "cell_type": "markdown",
   "id": "a1ce0fb9-abbf-4567-a74a-90c688b09111",
   "metadata": {
    "tags": []
   },
   "source": [
    "`break` and `continue` are used to explicitly control the flow of loops by residing in the loop."
   ]
  },
  {
   "cell_type": "markdown",
   "id": "41461ff9-71df-4477-a33d-1b5109d27d72",
   "metadata": {},
   "source": [
    "If all the objects in the iteration are completed or while condition turns falsy, the loop gets exited, but if we want to exit the loop explicitly or before completion of all objects in the loop, `break` comes in handy. we just need to have a break statement as `break` and the nearest enclosing loop in which this `break` is present exits."
   ]
  },
  {
   "cell_type": "markdown",
   "id": "ce2964ba-ee32-4f06-a049-1030a2d5ed6b",
   "metadata": {},
   "source": [
    "`continue` in a loop stop s the execution of the next code in the current iteration and starts the next iteration of the enclosing loop."
   ]
  },
  {
   "cell_type": "markdown",
   "id": "19a24ba0-9460-4f56-88c4-80bcb5b732b9",
   "metadata": {},
   "source": [
    "🙈 Sometimes sentences make the explanation harder to understand. In this case, it's better to understand using examples."
   ]
  },
  {
   "cell_type": "markdown",
   "id": "10c4c8f7-1916-4f31-8291-846e4444b003",
   "metadata": {},
   "source": [
    "### `break`"
   ]
  },
  {
   "cell_type": "markdown",
   "id": "08defb12-f3c6-4ab0-b238-14a0a54beff1",
   "metadata": {},
   "source": [
    "I want to know if a particular number is present in a list or not."
   ]
  },
  {
   "cell_type": "code",
   "execution_count": null,
   "id": "53a80d53-a80b-4c4b-aec4-062b0be8809a",
   "metadata": {},
   "outputs": [],
   "source": [
    "my_list = [10, 23, 13, 345, 0, 8]\n",
    "number_to_be_searched_for = 13\n",
    "\n",
    "for number in my_list:\n",
    "    print(f\"We are checking on the number: {number}\")\n",
    "    if number == number_to_be_searched_for:\n",
    "        print(\"We found the number 🏁\")\n",
    "        break"
   ]
  },
  {
   "cell_type": "markdown",
   "id": "21fb8ad3-6254-4999-8e05-0943fa3c54bf",
   "metadata": {},
   "source": [
    "```{hint}\n",
    "The way of searching for the number in the above code is called Linear Search. As we can see it is pretty easy to implement, but note that it isn't efficient for huge amount of data.\n",
    "```"
   ]
  },
  {
   "cell_type": "markdown",
   "id": "dc2224b5-649a-44e0-aa5f-be94df682893",
   "metadata": {},
   "source": [
    "Let's get to know what has happened here 🤔? we have a list called `my_list`, and we needed to search for a number 13 if it is present in the my_list or not."
   ]
  },
  {
   "cell_type": "markdown",
   "id": "cb3999bc-308b-42b8-b367-85147304e165",
   "metadata": {},
   "source": [
    "We have started iterating over the `my_list` list, once we find the number 13 in our list, we are breaking the loop. In this way, we are ensuring that it doesn't iterate over next items unnecessarily as we already achieved what we want 😊."
   ]
  },
  {
   "cell_type": "markdown",
   "id": "84810fd6-d52b-4241-8ac1-1863047df4d3",
   "metadata": {},
   "source": [
    "How do we know if we exited the loop? As we can see that only 3 print statements saying **We are checking on the number:** can be found. If we don't have a break, we would be having three more print statements as well: "
   ]
  },
  {
   "cell_type": "code",
   "execution_count": null,
   "id": "1b1e9199-619f-4cab-a56f-6fb0cb5d20d4",
   "metadata": {},
   "outputs": [],
   "source": [
    "# Without break\n",
    "for number in my_list:\n",
    "    print(f\"We are checking on the number: {number}\")\n",
    "    if number == number_to_be_searched_for:\n",
    "        print(\"We found the number 🏁\")"
   ]
  },
  {
   "cell_type": "markdown",
   "id": "bc036115-d61f-4c95-9e47-eb955a7bee03",
   "metadata": {},
   "source": [
    "### `continue`"
   ]
  },
  {
   "cell_type": "markdown",
   "id": "10adadc5-ee4b-446f-989d-8ac10d00df26",
   "metadata": {},
   "source": [
    "The `continue` statements skips execution of the code present after it and continues to execute the next iteration of the loop."
   ]
  },
  {
   "cell_type": "markdown",
   "id": "b92da6e9-930d-4157-9f34-a42fdc31928e",
   "metadata": {},
   "source": [
    "I am now in a shopping mall, picked a lot of items and now reached the billing counter, just got to remember that I just have 100 bucks with me 😱. I started looking at the cumulative total one by one being billed at the counter. I am good unless the bill crosses 100 bucks."
   ]
  },
  {
   "cell_type": "code",
   "execution_count": null,
   "id": "15fc5a37-948c-4bd0-ba5b-e946500c1faf",
   "metadata": {},
   "outputs": [],
   "source": [
    "items_costs = (12, 3, 23, 32, 13, 38, 8, 14, 9)\n",
    "cumulative_cost = 0  # Before starting the billing.\n",
    "\n",
    "for cost in items_costs:\n",
    "    cumulative_cost += cost\n",
    "    if cumulative_cost <= 100:\n",
    "        continue\n",
    "    print(\n",
    "        f\"⚠️ Oops! I have breached my budget, cumulative cost is {cumulative_cost} on addition of item of cost: {cost}\"\n",
    "    )"
   ]
  },
  {
   "cell_type": "markdown",
   "id": "6c6e6856-a2db-43d2-b6a5-39e137ecb734",
   "metadata": {},
   "source": [
    "In the above example I needed to drop few items ☹️ as I crossed 100 bucks. Let's see how did the code work. "
   ]
  },
  {
   "cell_type": "markdown",
   "id": "b13f45a1-5af5-4e73-9e3a-eaa539ffc040",
   "metadata": {},
   "source": [
    "We had a tuple called `items_cost` which has cost of each item, we started looping each item's cost and adding the cost to `cumulative_cost` and we checked if the `cumulative_cost` is less than or equal to 100 bucks, if true, we are in safe zone, so we are using `continue` statement, so that the code present next doesn't get executed. But eventually, we are crossing 100 bucks, and so the code in the `if` condition doesn't get executed as `cumulative_cost <= 100` is `False`, hence, we see that there's a warning print statement being executed."
   ]
  },
  {
   "cell_type": "markdown",
   "id": "d4b6633f-e6d9-4f16-9f4a-509296f6e024",
   "metadata": {},
   "source": [
    "## Hidden treasures in looping 💰"
   ]
  },
  {
   "cell_type": "markdown",
   "id": "7802551e-3447-492c-89e4-08de7242f23b",
   "metadata": {},
   "source": [
    "There are a few things that few people miss out to know about while learning loops in Python, I was one of them 😅. Let's see what did we miss:"
   ]
  },
  {
   "cell_type": "markdown",
   "id": "d32db685-8e18-4c63-bc46-20fcdd11347d",
   "metadata": {},
   "source": [
    "* `else` block after loops\n",
    "* `break` and `continue` effect in loops having `finally` blocks"
   ]
  },
  {
   "cell_type": "markdown",
   "id": "2837b1e9-5f90-4f7b-89a7-fddb116b3efb",
   "metadata": {},
   "source": [
    "### `else` block after loops"
   ]
  },
  {
   "cell_type": "markdown",
   "id": "7d627812-dc3e-4a20-916e-9cdfe7892174",
   "metadata": {},
   "source": [
    "The first question I had when I got to see code having `else` block after a `loop` **What the heck is else doing here?**, but later I got to know that else can be used after the loop. Well, what does it do? We just got to know about the use of `break` in the loops, right? If the loop explicitly exits by the keyword `break`, the `else` block **doesn't** gets executed, else `else` block gets executed. let's see an example."
   ]
  },
  {
   "cell_type": "code",
   "execution_count": null,
   "id": "7e75586c-cc64-4215-b8c2-6cd71956ca63",
   "metadata": {},
   "outputs": [],
   "source": [
    "def loop_else(value):\n",
    "    my_list = [1, 234, 22, 13, 9, 3]\n",
    "    for number in my_list:\n",
    "        if number == value:\n",
    "            print(f\"value {value} found in my_list\")\n",
    "            break\n",
    "    else:\n",
    "        print(f\"value {value} not found in my_list\")"
   ]
  },
  {
   "cell_type": "code",
   "execution_count": null,
   "id": "27a87813-626b-4726-b5eb-921ba0daaa68",
   "metadata": {},
   "outputs": [],
   "source": [
    "# 234 is present in the list, so the break statement gets executed, so else block gets skipped.\n",
    "loop_else(234)"
   ]
  },
  {
   "cell_type": "code",
   "execution_count": null,
   "id": "e4e69ec7-c709-4e06-a0aa-b08af5a43f4d",
   "metadata": {},
   "outputs": [],
   "source": [
    "# 783 is not present in the list, so the break statement never gets executed, so else block gets executed.\n",
    "loop_else(783)"
   ]
  },
  {
   "cell_type": "markdown",
   "id": "42202fd9-d50b-40fa-9bda-da319a3e851a",
   "metadata": {
    "tags": []
   },
   "source": [
    "### `break` and `continue` effect in loops having `finally` blocks"
   ]
  },
  {
   "cell_type": "markdown",
   "id": "1bb2aec8-f116-4627-8958-08ed0c418ebc",
   "metadata": {},
   "source": [
    "If the loop consists of `try`-`except`-`finally` or `try`-`finally` block. If either `break` or `continue` is executed, the interpreter reaches the `finally` block to execute the code present in it before breaking or continuing the loop."
   ]
  },
  {
   "cell_type": "markdown",
   "id": "27d6ff53-2ead-4f89-ad1b-3d94a8b14b60",
   "metadata": {},
   "source": [
    "`break`"
   ]
  },
  {
   "cell_type": "code",
   "execution_count": null,
   "id": "ee1595cf-2798-4caa-9189-b752f5689ad8",
   "metadata": {},
   "outputs": [],
   "source": [
    "while True:\n",
    "    try:\n",
    "        break\n",
    "    finally:\n",
    "        print(\"in finally block\")"
   ]
  },
  {
   "cell_type": "markdown",
   "id": "c6438c36-8bc1-40e6-9009-67b7b6531f21",
   "metadata": {},
   "source": [
    "`continue`"
   ]
  },
  {
   "cell_type": "code",
   "execution_count": null,
   "id": "ac5d5bc7-24b9-45c9-9c1f-c5f8d7f7f187",
   "metadata": {},
   "outputs": [],
   "source": [
    "while True:\n",
    "    try:\n",
    "        continue\n",
    "    finally:\n",
    "        print(\"in finally block\")\n",
    "        break  # Using break here to prevent an infinite loop."
   ]
  }
 ],
 "metadata": {
  "kernelspec": {
   "display_name": "Python 3 (ipykernel)",
   "language": "python",
   "name": "python3"
  },
  "language_info": {
   "codemirror_mode": {
    "name": "ipython",
    "version": 3
   },
   "file_extension": ".py",
   "mimetype": "text/x-python",
   "name": "python",
   "nbconvert_exporter": "python",
   "pygments_lexer": "ipython3",
   "version": "3.9.5"
  }
 },
 "nbformat": 4,
 "nbformat_minor": 5
}
