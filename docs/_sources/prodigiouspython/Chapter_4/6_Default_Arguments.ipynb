{
 "cells": [
  {
   "cell_type": "markdown",
   "id": "b8afa6f5-3876-4cfd-93b0-a980f029e76e",
   "metadata": {},
   "source": [
    "# Default Arguments"
   ]
  },
  {
   "cell_type": "markdown",
   "id": "d02b7963-b001-4d6c-8b44-6b2e4f97a24d",
   "metadata": {},
   "source": [
    "Default arguments are the ones when calling the function, no object is given in its place, its default value would be considered 🔔."
   ]
  },
  {
   "cell_type": "markdown",
   "id": "8e423f93-5181-4f92-b452-8b4efbae86b9",
   "metadata": {},
   "source": [
    "Default arguments are assigned in the function signature as"
   ]
  },
  {
   "cell_type": "markdown",
   "id": "a9f61bfa-fcbe-48af-8f42-846fe37df9d5",
   "metadata": {},
   "source": [
    "```Python\n",
    "def func(arg=<obj>):\n",
    "```"
   ]
  },
  {
   "cell_type": "markdown",
   "id": "e6679955-3d7d-4b19-9b66-42faa09b773b",
   "metadata": {},
   "source": [
    "Let's get through an example"
   ]
  },
  {
   "cell_type": "code",
   "execution_count": null,
   "id": "204d8055-bd79-4c25-8b74-7840eae7ec63",
   "metadata": {},
   "outputs": [],
   "source": [
    "def greet(greet_word=\"Hello\", name=\"Pythonist!\"):\n",
    "    print(f\"{greet_word} {name}!\")"
   ]
  },
  {
   "cell_type": "code",
   "execution_count": null,
   "id": "db7e50df-9890-4db6-b377-977148ea1622",
   "metadata": {},
   "outputs": [],
   "source": [
    "greet(\"Hey\")"
   ]
  },
  {
   "cell_type": "markdown",
   "id": "6a3a8907-499c-41b7-9853-bb6b60267d3c",
   "metadata": {},
   "source": [
    "We see that the output for the above example is `Hey Pythonist!`, we have passed just `Hey` for `greet_word` argument, as we have passed object for `greet_word`, it took \"Hey\" as its value, but coming to `name` argument, we haven't passed any value to it, so it took default object for `name` as `Pythonist!`"
   ]
  },
  {
   "cell_type": "markdown",
   "id": "3dc4e42e-46f1-49b1-90a8-17293ada46aa",
   "metadata": {},
   "source": [
    "## Note on default arguments with respect to mutable objects"
   ]
  },
  {
   "cell_type": "markdown",
   "id": "8f65c27f-19cd-479a-aedc-080c665048fb",
   "metadata": {},
   "source": [
    "In the previous example, we have made default argument values to be string objects, and we already know that string objects are immutable objects and it works really fine as we expected."
   ]
  },
  {
   "cell_type": "markdown",
   "id": "a00633ab-77d6-47e3-89aa-bb0146b2e89f",
   "metadata": {},
   "source": [
    "But what would be result if we use mutable objects like lists, dictionary 🤔? "
   ]
  },
  {
   "cell_type": "code",
   "execution_count": null,
   "id": "38f5ce13-2136-42d2-8241-516934b7bdd7",
   "metadata": {},
   "outputs": [],
   "source": [
    "def test_mutable_objects_as_default_argument(my_list=[]):\n",
    "    my_list.append(\"🍰\")\n",
    "    print(my_list)"
   ]
  },
  {
   "cell_type": "code",
   "execution_count": null,
   "id": "b0eb9f10-877d-43ce-b651-f59a105db1da",
   "metadata": {},
   "outputs": [],
   "source": [
    "test_mutable_objects_as_default_argument()  # Calling the function for the first time.\n",
    "test_mutable_objects_as_default_argument()  # Calling the function for the second time."
   ]
  },
  {
   "cell_type": "markdown",
   "id": "879deabe-53c9-4346-bb19-ded80311f377",
   "metadata": {},
   "source": [
    "Ouch, as we are not passing any argument during calling our `test_mutable_objects_as_default_argument` function, both the times we expected the result should be the same. But, we do see that during second time calling of the function, there is one extra 🍰 present in the output. "
   ]
  },
  {
   "cell_type": "markdown",
   "id": "7772a594-4fc5-4ce5-b13f-b0c0e1b062d7",
   "metadata": {},
   "source": [
    "I would be happy for getting an extra cake in my plate 😋, but not in the above output. Well, the problem is that, `my_list` in the `test_mutable_objects_as_default_argument` is being stored as the function attribute and being persisted and mutated everytime function is called."
   ]
  },
  {
   "cell_type": "markdown",
   "id": "92529d01-fa3c-4016-9edb-fd6a931fe380",
   "metadata": {},
   "source": [
    "We could see the default values of our function using the `__defaults__` method."
   ]
  },
  {
   "cell_type": "code",
   "execution_count": null,
   "id": "380b3e81-4383-4de0-8fb7-15d11c0eeba3",
   "metadata": {},
   "outputs": [],
   "source": [
    "test_mutable_objects_as_default_argument.__defaults__"
   ]
  },
  {
   "cell_type": "markdown",
   "id": "9b235040-70bf-4430-96ac-fda614a86463",
   "metadata": {},
   "source": [
    "We see there are cake objects being stored in the defaults of the function, No worries, we do have a fix for that. "
   ]
  },
  {
   "cell_type": "markdown",
   "id": "4a12c332-a9e6-4e28-b6ca-099c3b1d182e",
   "metadata": {},
   "source": [
    "`Solution:`\n",
    "Use `None` object as default argument."
   ]
  },
  {
   "cell_type": "code",
   "execution_count": null,
   "id": "fd9c7b2c-d548-435e-8cb4-07ecf2e2e484",
   "metadata": {},
   "outputs": [],
   "source": [
    "def test_again_as_default_argument_using_none(my_list=None):\n",
    "    if my_list is None:\n",
    "        my_list = []\n",
    "    my_list.append(\"🍰\")\n",
    "    print(my_list)"
   ]
  },
  {
   "cell_type": "code",
   "execution_count": null,
   "id": "3863b775-869b-4116-b150-c8e16ef63999",
   "metadata": {},
   "outputs": [],
   "source": [
    "test_again_as_default_argument_using_none()  # Calling the function for the first time.\n",
    "test_again_as_default_argument_using_none()  # Calling the function for the second time."
   ]
  },
  {
   "cell_type": "markdown",
   "id": "edb5f93c-509b-4c4a-bdf2-178370c0b6ea",
   "metadata": {},
   "source": [
    "Hurray 🍾! We learned how to deal with default arguments for mutable objects."
   ]
  },
  {
   "cell_type": "markdown",
   "id": "d3f51a00-3df0-427e-a98d-74bf3113d02c",
   "metadata": {},
   "source": [
    "If we pass a list containing an objects, our cake 🍰 would be appended and printed."
   ]
  },
  {
   "cell_type": "code",
   "execution_count": null,
   "id": "197ea5b2-2d1c-45c0-b522-84a03f195d84",
   "metadata": {},
   "outputs": [],
   "source": [
    "test_again_as_default_argument_using_none([\"🍹\"])"
   ]
  },
  {
   "cell_type": "markdown",
   "id": "99d08be5-fc4e-4247-b6d2-24047baae1ca",
   "metadata": {},
   "source": [
    "## Tidbits 💡"
   ]
  },
  {
   "cell_type": "markdown",
   "id": "ee04f1fd-1085-4cca-b967-1c0de0b5ac32",
   "metadata": {},
   "source": [
    "We can't assign default arguments to Unnamed positional arguments (VarArgs) and Keyword arguments as there are optional in first place with default values as empty tuple `()` for Unnamed positional arguments and empty dictionary `{}` for Keyword arguments. If we try assigning default argument to Unnamed positional arguments r Keyword arguments, we would see `SyntaxError` spawned 👻."
   ]
  }
 ],
 "metadata": {
  "kernelspec": {
   "display_name": "Python 3 (ipykernel)",
   "language": "python",
   "name": "python3"
  },
  "language_info": {
   "codemirror_mode": {
    "name": "ipython",
    "version": 3
   },
   "file_extension": ".py",
   "mimetype": "text/x-python",
   "name": "python",
   "nbconvert_exporter": "python",
   "pygments_lexer": "ipython3",
   "version": "3.9.5"
  }
 },
 "nbformat": 4,
 "nbformat_minor": 5
}
