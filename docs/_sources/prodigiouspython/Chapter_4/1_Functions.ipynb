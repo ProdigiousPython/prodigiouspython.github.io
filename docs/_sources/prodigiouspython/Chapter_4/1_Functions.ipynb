{
 "cells": [
  {
   "cell_type": "markdown",
   "id": "807cc00b-ac97-4475-8dc4-b479f954cf2a",
   "metadata": {},
   "source": [
    "# Functions"
   ]
  },
  {
   "cell_type": "markdown",
   "id": "5bdd2646-4cdb-4972-94fb-7dc15b63fb41",
   "metadata": {},
   "source": [
    "The purpose of Functions is grouping the code into organised, readable and reusable format. By using the functions, code redundancy can be reduced."
   ]
  },
  {
   "cell_type": "markdown",
   "id": "0e9747f5-3ecb-455e-91d8-6f4360381bed",
   "metadata": {},
   "source": [
    "A soft rule of functions is that, an function should be **Small** and **Do One Thing** mentioned in Clean Code by Robert C. Martin."
   ]
  },
  {
   "cell_type": "markdown",
   "id": "c14b9eba-1d89-4e9f-b215-6c06a2227230",
   "metadata": {},
   "source": [
    "Functions are nothing new to us. We have already used `print` function in our previous lessons, just that it is a built-in function. There are other built-in functions like `help`, `len`, `sorted`, `map`, `filter`, `reduce` etc..."
   ]
  },
  {
   "cell_type": "markdown",
   "id": "9af44158-49b8-4689-ad17-e448bbcb7a6c",
   "metadata": {},
   "source": [
    "In Python functions are created by using the keyword `def` followed by the function name and if required parameters."
   ]
  },
  {
   "cell_type": "markdown",
   "id": "099428a7-9ad1-4958-8544-bdc09e64a9bc",
   "metadata": {},
   "source": [
    "```Python\n",
    "def function_name(parameters):\n",
    "    # statements...\n",
    "    ...\n",
    "    ...\n",
    "    ...\n",
    "```\n",
    "    "
   ]
  },
  {
   "cell_type": "markdown",
   "id": "29521a8b-33b2-4496-be11-30744295fe8e",
   "metadata": {},
   "source": [
    "Here `function_name` is the identifier for the function through which it can be called. `parameters` are optional in the function signature. A function may have any number of parameters to be bound to the function. As we already know we do use Indentation to group the statements, all the statements belonging to the function are indented in the function."
   ]
  },
  {
   "cell_type": "markdown",
   "id": "d7fe5965-7cfc-45fc-8080-781cd2a16eda",
   "metadata": {},
   "source": [
    "By convention function names should be in camelcase 🐪 and be a verb."
   ]
  },
  {
   "cell_type": "markdown",
   "id": "5efe8c30-54dc-47ef-878c-8a34d7ea8ea3",
   "metadata": {},
   "source": [
    "Let's get started with a basic function"
   ]
  },
  {
   "cell_type": "markdown",
   "id": "cf95893a-9b62-4d0b-9204-01bd57771ef4",
   "metadata": {},
   "source": [
    "## Simple function"
   ]
  },
  {
   "cell_type": "code",
   "execution_count": null,
   "id": "d629fb45-b30e-45ad-88b2-2d6b0293a928",
   "metadata": {},
   "outputs": [],
   "source": [
    "def greet():\n",
    "    print(\"Hello Pythoneer! 😎\")"
   ]
  },
  {
   "cell_type": "code",
   "execution_count": null,
   "id": "fe2df63f-34d4-40bb-b4e9-4e0c41a94e72",
   "metadata": {},
   "outputs": [],
   "source": [
    "greet()  # Calling the function"
   ]
  },
  {
   "cell_type": "markdown",
   "id": "8c15c88b-e312-4249-ad47-f9fbdc8251c7",
   "metadata": {},
   "source": [
    "This is a pretty basic function which just prints to the console saying \"Hello Pythoneer!😎\", as we are not returning anything using the `return` keyword, our function `greet` implicitly returns `None` object."
   ]
  },
  {
   "cell_type": "markdown",
   "id": "a1e1ca3b-9eb8-4460-a891-40803107addd",
   "metadata": {},
   "source": [
    "We could return objects from the function using the keyword `return`"
   ]
  },
  {
   "cell_type": "code",
   "execution_count": null,
   "id": "a6046d24-c4a0-4555-a484-51a25c6f0656",
   "metadata": {},
   "outputs": [],
   "source": [
    "def greet():\n",
    "    return \"Hello Pythoneer! 😎\""
   ]
  },
  {
   "cell_type": "code",
   "execution_count": null,
   "id": "090d0983-8094-4938-996f-5c1b9f6e915c",
   "metadata": {},
   "outputs": [],
   "source": [
    "greet_word = greet()\n",
    "print(greet_word)"
   ]
  },
  {
   "cell_type": "markdown",
   "id": "ebc27654-6220-4b02-82b2-597caa740b77",
   "metadata": {},
   "source": [
    "## Functions - First Class Objects"
   ]
  },
  {
   "cell_type": "markdown",
   "id": "18cf03a0-7eec-488d-94f4-b6335046a341",
   "metadata": {},
   "source": [
    "In Python 🐍, Functions are First class objects. There are a few criteria defined for an object to be First class object like functions can be passed as argument, assigned to a variable, return a function."
   ]
  },
  {
   "cell_type": "markdown",
   "id": "485ab4da-efd3-434e-b777-b40d6d236d5b",
   "metadata": {},
   "source": [
    "### Passing the function to a different function"
   ]
  },
  {
   "cell_type": "code",
   "execution_count": null,
   "id": "3b9abd21-29c9-48f8-a7b4-ad9ef8ddf7bf",
   "metadata": {},
   "outputs": [],
   "source": [
    "def first_function():\n",
    "    print(\"One Pint of 🍺\")"
   ]
  },
  {
   "cell_type": "code",
   "execution_count": null,
   "id": "fea755e1-f13c-4620-b8c0-d0d97ce0ae37",
   "metadata": {},
   "outputs": [],
   "source": [
    "def second_function(func):\n",
    "    func()\n",
    "    print(\"Two Pints of beer 🍺🍺\")"
   ]
  },
  {
   "cell_type": "code",
   "execution_count": null,
   "id": "941b106a-77b3-4bc7-b9f0-136c530b84cd",
   "metadata": {},
   "outputs": [],
   "source": [
    "second_function(first_function)"
   ]
  },
  {
   "cell_type": "markdown",
   "id": "c9f47ff6-d0db-443e-9905-94e821ac8dc1",
   "metadata": {},
   "source": [
    "Yippeee! We have successfully passed our `first_function` to the `second_function` where `first_function` is being called inside the `second_function`"
   ]
  },
  {
   "cell_type": "markdown",
   "id": "4156f607-2a93-4597-a22a-d9b2406c94a3",
   "metadata": {},
   "source": [
    "### Assigning the function to a variable"
   ]
  },
  {
   "cell_type": "code",
   "execution_count": null,
   "id": "346d79ef-a20f-485f-b140-20d0728f8331",
   "metadata": {},
   "outputs": [],
   "source": [
    "# note that we are not calling the function, we are just assigning,\n",
    "# if we call the function, the returned value would be assigned to our variable.\n",
    "i_am_a_variable = first_function"
   ]
  },
  {
   "cell_type": "code",
   "execution_count": null,
   "id": "e2e35940-aa42-48b5-9e97-3f68984f3659",
   "metadata": {},
   "outputs": [],
   "source": [
    "i_am_a_variable()"
   ]
  },
  {
   "cell_type": "markdown",
   "id": "568dd419-cb3d-4b42-95bc-3b2dfe252ae2",
   "metadata": {},
   "source": [
    "### Returning a function"
   ]
  },
  {
   "cell_type": "code",
   "execution_count": null,
   "id": "2a10d8e0-d37e-4b70-9f93-51f9a5e3d688",
   "metadata": {},
   "outputs": [],
   "source": [
    "def lets_return_a_function():\n",
    "    return first_function"
   ]
  },
  {
   "cell_type": "code",
   "execution_count": null,
   "id": "a6f67196-52f4-46a8-bd69-b3ba648cef25",
   "metadata": {},
   "outputs": [],
   "source": [
    "obj = lets_return_a_function()\n",
    "print(f\"obj is {obj}\")\n",
    "print(f\"obj name is {obj.__name__}\")\n",
    "print(f\"Is obj callable? {callable(obj)}\")"
   ]
  },
  {
   "cell_type": "markdown",
   "id": "c77bc27c-fb84-4bfd-91ac-96bcbbf3ef24",
   "metadata": {},
   "source": [
    "Cheers again 🍻! We accomplished mission of returning the function. In the above example, we are printing the the `obj` itself which provides the `__str__` representation of the obj, next we are printing the name of the `obj` which is the function name itself, and finally we are checking if our `obj` is callable, if an object is callable, then `callable` function returns `True` else `False`"
   ]
  },
  {
   "cell_type": "markdown",
   "id": "59867340-96ee-4335-a51f-313241125d33",
   "metadata": {},
   "source": [
    "### Deletion of function object"
   ]
  },
  {
   "cell_type": "markdown",
   "id": "7363696d-3863-4c13-91bc-c9609891eb61",
   "metadata": {},
   "source": [
    "As we already know that everything in Python is an object, even function as well is an object. We can even delete our function using the `del` keyword."
   ]
  },
  {
   "cell_type": "code",
   "execution_count": null,
   "id": "2fcf0978-4629-4975-ab48-1a1979e5d258",
   "metadata": {},
   "outputs": [],
   "source": [
    "del first_function\n",
    "first_function()"
   ]
  },
  {
   "cell_type": "markdown",
   "id": "849240e8-5f27-48c3-9f76-99660b52af35",
   "metadata": {},
   "source": [
    "As we deleted the `first_function`, if we try to call that function, we do get to see `NameError` saying `first_function` is not defined."
   ]
  },
  {
   "cell_type": "markdown",
   "id": "03fee48d-f8d0-470a-8f36-f64f1b738dac",
   "metadata": {},
   "source": [
    "## Types of Arguments"
   ]
  },
  {
   "cell_type": "markdown",
   "id": "eb992c4e-476e-4b0c-9624-32393647acfd",
   "metadata": {},
   "source": [
    "As we already know we can pass the parameters to the function, we can give a try on those too.. But before trying out, let's know about the types of Arguments we can define in the function signature. We have the below 4 types of Arguments: "
   ]
  },
  {
   "cell_type": "markdown",
   "id": "3fc8d886-6360-453c-a74d-c57ca0a3ab83",
   "metadata": {},
   "source": [
    "* Positional Arguments\n",
    "* Unnamed positional Arguments / VarArgs\n",
    "* Keyword-only Arguments \n",
    "* Keyword arguments / Varkwargs"
   ]
  }
 ],
 "metadata": {
  "kernelspec": {
   "display_name": "Python 3 (ipykernel)",
   "language": "python",
   "name": "python3"
  },
  "language_info": {
   "codemirror_mode": {
    "name": "ipython",
    "version": 3
   },
   "file_extension": ".py",
   "mimetype": "text/x-python",
   "name": "python",
   "nbconvert_exporter": "python",
   "pygments_lexer": "ipython3",
   "version": "3.9.5"
  }
 },
 "nbformat": 4,
 "nbformat_minor": 5
}
