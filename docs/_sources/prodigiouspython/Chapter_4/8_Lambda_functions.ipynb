{
 "cells": [
  {
   "cell_type": "markdown",
   "id": "2ae2fe1a-aa26-4f2a-9d04-9b5150385cce",
   "metadata": {},
   "source": [
    "# Lambda Functions"
   ]
  },
  {
   "cell_type": "markdown",
   "id": "cdca749c-9e9f-419b-b252-759395ff4f55",
   "metadata": {},
   "source": [
    "Lambda functions are inline functions which have only 1 statement. They are created by using the keyword `lambda` They do not have any name, so they are also known as Anonymous functions. Although they don't have a name, they can be bound to a variable."
   ]
  },
  {
   "cell_type": "markdown",
   "id": "05e52753-71a1-4034-917f-00e842abf3ab",
   "metadata": {},
   "source": [
    "A simple lambda function to greets us 👋:"
   ]
  },
  {
   "cell_type": "code",
   "execution_count": null,
   "id": "67398048-9602-4467-bd8d-180d6d0efea4",
   "metadata": {},
   "outputs": [],
   "source": [
    "greet = lambda: \"Hello Pythonist!\""
   ]
  },
  {
   "cell_type": "code",
   "execution_count": null,
   "id": "f4556bc2-786a-4258-9bd1-6ecaffe817a9",
   "metadata": {},
   "outputs": [],
   "source": [
    "print(greet())"
   ]
  },
  {
   "cell_type": "markdown",
   "id": "be3387d4-585c-4123-869a-67d4628d9605",
   "metadata": {},
   "source": [
    "The above lambda function can be rewritten as a regular function as:"
   ]
  },
  {
   "cell_type": "code",
   "execution_count": null,
   "id": "a3e07354-aa3b-4eed-8988-3f31cbacf53d",
   "metadata": {},
   "outputs": [],
   "source": [
    "def greet():\n",
    "    return \"Hello Pythonist!\""
   ]
  },
  {
   "cell_type": "code",
   "execution_count": null,
   "id": "67fe977d-3ef9-4133-981f-8dafc26aee61",
   "metadata": {},
   "outputs": [],
   "source": [
    "print(greet())"
   ]
  },
  {
   "cell_type": "markdown",
   "id": "5d585832-461a-4662-b291-489346b68761",
   "metadata": {},
   "source": [
    "Conceptually, lambda functions are similar to regular functions which are defined using `def`, just that lambda function accepts only 1 statement."
   ]
  },
  {
   "cell_type": "markdown",
   "id": "e47be9d1-baf0-4c7e-92b8-39513606fb70",
   "metadata": {},
   "source": [
    "Let's try calling lambda function without assigning the function to any variable."
   ]
  },
  {
   "cell_type": "code",
   "execution_count": null,
   "id": "dfc58b64-031c-4443-ae95-3f02349a9a25",
   "metadata": {},
   "outputs": [],
   "source": [
    "print((lambda: \"Hello Pythonist! ♥️\")())"
   ]
  },
  {
   "cell_type": "markdown",
   "id": "a3b627c4-bf21-4296-8ed6-53f6c6f8a67a",
   "metadata": {},
   "source": [
    "In the above example, we are creating the lambda expression enclosed in parenthesis and calling the function by using `()` at the end. As there is no name for the lambda function we just called, this is the reason why Lambda expressions/functions are also called as Anonymous functions."
   ]
  },
  {
   "cell_type": "markdown",
   "id": "8a558ff7-e810-477b-ac6c-4867eb3896b0",
   "metadata": {},
   "source": [
    "We can pass parameters as well to the lambda function"
   ]
  },
  {
   "cell_type": "code",
   "execution_count": null,
   "id": "9d7b0544-d147-407b-8a71-321cc2b8ad12",
   "metadata": {},
   "outputs": [],
   "source": [
    "add = lambda a, b: a + b\n",
    "print(add(3, 5))"
   ]
  },
  {
   "cell_type": "markdown",
   "id": "293e232b-1ab5-4b2d-89c9-09d5e41c29e8",
   "metadata": {},
   "source": [
    "Till now, everything about `lambda functions` and `regular functions` do look the same, Is there any difference? Yup, here it is, Lambda functions do have the Lexical closures similar to loops in regular functions. What the heck is Lexical closure 🤔? At the end of the lexical scope, the value is still remembered unlike  in the programming languages C, Golang etc.. Let's try it out with an example 🙂"
   ]
  },
  {
   "cell_type": "code",
   "execution_count": null,
   "id": "cc325d75-817a-4d2e-ae85-42f497e5a794",
   "metadata": {},
   "outputs": [],
   "source": [
    "def do_sum(value):\n",
    "    return lambda a: a + value"
   ]
  },
  {
   "cell_type": "code",
   "execution_count": null,
   "id": "817319e2-67cf-4312-aa66-1ae54fd9efeb",
   "metadata": {},
   "outputs": [],
   "source": [
    "adder_3 = do_sum(3)\n",
    "adder_10 = do_sum(10)"
   ]
  },
  {
   "cell_type": "code",
   "execution_count": null,
   "id": "1855ea2d-a74c-41c7-9a1c-39c560fdeb35",
   "metadata": {},
   "outputs": [],
   "source": [
    "print(adder_3(5))\n",
    "print(adder_10(5))"
   ]
  },
  {
   "cell_type": "markdown",
   "id": "12e1f787-7051-4add-8b89-4450a4d3b685",
   "metadata": {},
   "source": [
    "Here we can see that `adder_3` and `adder_10` are persisting the values that `3` and `10` that we passed during calling the `do_sum` function which returned the lambda function which holds our 3 and 10."
   ]
  }
 ],
 "metadata": {
  "kernelspec": {
   "display_name": "Python 3 (ipykernel)",
   "language": "python",
   "name": "python3"
  },
  "language_info": {
   "codemirror_mode": {
    "name": "ipython",
    "version": 3
   },
   "file_extension": ".py",
   "mimetype": "text/x-python",
   "name": "python",
   "nbconvert_exporter": "python",
   "pygments_lexer": "ipython3",
   "version": "3.9.5"
  }
 },
 "nbformat": 4,
 "nbformat_minor": 5
}
