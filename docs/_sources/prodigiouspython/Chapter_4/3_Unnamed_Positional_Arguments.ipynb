{
 "cells": [
  {
   "cell_type": "markdown",
   "id": "fe1713cf-07bc-4035-bf78-6147811a1bda",
   "metadata": {},
   "source": [
    "# Unnamed Positional Arguments"
   ]
  },
  {
   "cell_type": "markdown",
   "id": "3065c53c-66af-4a9b-8626-c7fe40cd3d4e",
   "metadata": {},
   "source": [
    "let's think we need to count the number of bucks I spent from the past 3 days. I could write a function as below:"
   ]
  },
  {
   "cell_type": "code",
   "execution_count": null,
   "id": "549f9269-4cd1-46b7-9e2c-2836f8075e10",
   "metadata": {},
   "outputs": [],
   "source": [
    "def count_my_expenses_for_last_3_days(day_1, day_2, day_3):\n",
    "    print(f\"The total expenses for last 3 days is : {day_1 + day_2 + day_3}\")"
   ]
  },
  {
   "cell_type": "code",
   "execution_count": null,
   "id": "332c31f1-e4f9-42d6-ad1c-1c0e597758ad",
   "metadata": {},
   "outputs": [],
   "source": [
    "count_my_expenses_for_last_3_days(88, 12, 15)"
   ]
  },
  {
   "cell_type": "markdown",
   "id": "98b15088-5d42-423d-b640-5516e70954a3",
   "metadata": {},
   "source": [
    "The day passed down and now I want to find my expenses of my last 4 days, but I am too lazy to write new function like:"
   ]
  },
  {
   "cell_type": "markdown",
   "id": "ad17c4ae-fb74-46aa-ab11-228c30bd97eb",
   "metadata": {},
   "source": [
    "```Python\n",
    "def count_my_expenses_for_last_4_days(day_1, day_2, day_3, day_4):\n",
    "    print(f\"The total expenses for last 4 days is : {day_1 + day_2 + day_3 + day_4}\")\n",
    "```"
   ]
  },
  {
   "cell_type": "markdown",
   "id": "ab766cad-5e4e-470a-a23f-57805ceb9053",
   "metadata": {},
   "source": [
    "![Lazy me](https://github.com/ProdigiousPython/AssetStore/blob/main/Chapters_1-5/Chapter_4/resources/lazy.jpg?raw=true)"
   ]
  },
  {
   "cell_type": "markdown",
   "id": "8825c66e-b071-442c-97a1-9611ec5d9a81",
   "metadata": {},
   "source": [
    "And I much more lazier to modify the function each day. No worries, we have Unnamed Positional arguments as our Saviour in this case."
   ]
  },
  {
   "cell_type": "markdown",
   "id": "dc51a87c-bfc4-4315-aea9-6ffe9485b603",
   "metadata": {},
   "source": [
    "Sometimes we might not know the number of arguments we need to send to a function. Using Unnamed Positional Arguments we can pass any number of arguments to the function. The function receives all the arguments placed in the tuple."
   ]
  },
  {
   "cell_type": "markdown",
   "id": "fb7d527a-ee94-44a5-a016-41d04990ffb8",
   "metadata": {},
   "source": [
    "## Using Unnamed Positional Arguments to find our expenses"
   ]
  },
  {
   "cell_type": "code",
   "execution_count": null,
   "id": "34f228c1-03b8-4ac8-ae02-e408c8d9cc91",
   "metadata": {},
   "outputs": [],
   "source": [
    "def count_my_expenses(*expenses):\n",
    "    # We could use sum function like sum(expenses). But, for now let's go the raw way.\n",
    "    total = 0\n",
    "    for expense in expenses:\n",
    "        total += expense\n",
    "    print(f\"Total expenses for last {len(expenses)} is {total}\")"
   ]
  },
  {
   "cell_type": "markdown",
   "id": "bacdd78f-7277-4443-859a-9ca40ef4d2ad",
   "metadata": {},
   "source": [
    "`For 3 days:`"
   ]
  },
  {
   "cell_type": "code",
   "execution_count": null,
   "id": "1942db76-9925-4301-8009-f296402b0072",
   "metadata": {},
   "outputs": [],
   "source": [
    "count_my_expenses(100, 23, 4544)"
   ]
  },
  {
   "cell_type": "markdown",
   "id": "b63f89ed-e7a0-4b7a-81e2-17518ca2adc0",
   "metadata": {},
   "source": [
    "`For 5 days:`"
   ]
  },
  {
   "cell_type": "code",
   "execution_count": null,
   "id": "43a9c08c-4dd9-457c-bf8e-3a4ccaf8687f",
   "metadata": {},
   "outputs": [],
   "source": [
    "count_my_expenses(100, 23, 4544, 4, 13)"
   ]
  },
  {
   "cell_type": "markdown",
   "id": "1daa59b8-d1c7-46cb-8e5f-cc1a484aa4c8",
   "metadata": {},
   "source": [
    "`For 8 days:`"
   ]
  },
  {
   "cell_type": "code",
   "execution_count": null,
   "id": "0fac84ca-51b4-4c17-94c6-99e8f37a9d4e",
   "metadata": {},
   "outputs": [],
   "source": [
    "count_my_expenses(100, 23, 4544, 4, 13, 34, 86, 123)"
   ]
  },
  {
   "cell_type": "markdown",
   "id": "27c9c169-7338-45f8-9d25-8ec593b1d658",
   "metadata": {},
   "source": [
    "Hence we can see that for any number of days of expenses our function `count_my_expenses` works great 🤖 🍾."
   ]
  },
  {
   "cell_type": "markdown",
   "id": "7c789aa5-7c7d-4386-b7f6-ddc09501a103",
   "metadata": {},
   "source": [
    "We can even pass the already present objects in a iterable to our function, just that we need to unpack the iterable using the `*`"
   ]
  },
  {
   "cell_type": "code",
   "execution_count": null,
   "id": "39f677e4-7816-4674-9729-2d74aca87e62",
   "metadata": {},
   "outputs": [],
   "source": [
    "my_expenses = [100, 23, 4544, 4, 13, 34, 86, 123]\n",
    "count_my_expenses(*my_expenses)"
   ]
  },
  {
   "cell_type": "markdown",
   "id": "75dbe660-6d32-4327-8918-6fe385d6c267",
   "metadata": {},
   "source": [
    "let's check what is the datatype of the the Unnamed positional arguments passed tp the function"
   ]
  },
  {
   "cell_type": "code",
   "execution_count": null,
   "id": "315e9b62-6bda-4ef1-953c-aefb97decae1",
   "metadata": {},
   "outputs": [],
   "source": [
    "def example(*args):\n",
    "    print(f\"The datatype of args is {type(args)}\")\n",
    "    print(f\"The contents of the args are: {args}\")\n",
    "\n",
    "\n",
    "# Calling the function.\n",
    "example(\"abc\")"
   ]
  },
  {
   "cell_type": "markdown",
   "id": "55c31ce5-0603-4157-bd8c-f819b2a16810",
   "metadata": {},
   "source": [
    "Yup! The datatype of Unnamed Positional arguments is `Tuple`, and the objects passed as args are placed in the tuple object. 🙂"
   ]
  },
  {
   "cell_type": "markdown",
   "id": "0ae7ee74-2c7a-4f8f-ac36-d65a20c681a4",
   "metadata": {},
   "source": [
    "🔔 By the way, this is not our first time using Unnamed Positional arguments. We have already used `print` function many times and it accepts Unnamed Positional arguments to be printed."
   ]
  },
  {
   "cell_type": "code",
   "execution_count": null,
   "id": "5e9d48fd-5fb6-48a8-a950-bd61d39c6313",
   "metadata": {},
   "outputs": [],
   "source": [
    "print(\"Hello\", \"Pythonist!\", \"⭐️\")"
   ]
  }
 ],
 "metadata": {
  "kernelspec": {
   "display_name": "Python 3 (ipykernel)",
   "language": "python",
   "name": "python3"
  },
  "language_info": {
   "codemirror_mode": {
    "name": "ipython",
    "version": 3
   },
   "file_extension": ".py",
   "mimetype": "text/x-python",
   "name": "python",
   "nbconvert_exporter": "python",
   "pygments_lexer": "ipython3",
   "version": "3.9.5"
  }
 },
 "nbformat": 4,
 "nbformat_minor": 5
}
