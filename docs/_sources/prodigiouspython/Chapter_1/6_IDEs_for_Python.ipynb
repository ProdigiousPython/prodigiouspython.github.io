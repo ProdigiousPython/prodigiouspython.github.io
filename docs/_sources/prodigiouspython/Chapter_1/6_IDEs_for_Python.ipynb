{
 "cells": [
  {
   "cell_type": "markdown",
   "metadata": {},
   "source": [
    "# IDEs/Editors for Python"
   ]
  },
  {
   "cell_type": "markdown",
   "metadata": {},
   "source": [
    "We have a lot of IDEs/Editors available for Python. Although we get **IDLE** abbreviated as **I**ntegrated **D**evelopment and **L**earning **E**nvironment\n",
    "\n",
    "IDLE gets installed automatically on Windows along with Python installation. On Mac or \\*nix operating systems we need install it manually"
   ]
  },
  {
   "cell_type": "markdown",
   "metadata": {},
   "source": [
    "A few great IDEs/Editors for Python"
   ]
  },
  {
   "cell_type": "markdown",
   "metadata": {},
   "source": [
    "## PyCharm"
   ]
  },
  {
   "cell_type": "markdown",
   "metadata": {},
   "source": [
    "<a href=\"https://www.jetbrains.com/pycharm/\" target=\"_blank\"><img src=\"https://github.com/ProdigiousPython/AssetStore/blob/main/Chapters_1-5/Chapter_1/resources/PyCharm_logo.png?raw=true\" width=100 length=100></img></a>"
   ]
  },
  {
   "cell_type": "markdown",
   "metadata": {},
   "source": [
    "## Spyder"
   ]
  },
  {
   "cell_type": "markdown",
   "metadata": {},
   "source": [
    "<a href=\"https://www.spyder-ide.org/\" target=\"_blank\"><img src=\"https://github.com/ProdigiousPython/AssetStore/blob/main/Chapters_1-5/Chapter_1/resources/Spyder_logo.png?raw=true\" width=100 length=100></img></a>"
   ]
  },
  {
   "cell_type": "markdown",
   "metadata": {},
   "source": [
    "## Visual Studio Code"
   ]
  },
  {
   "cell_type": "markdown",
   "metadata": {},
   "source": [
    "<a href=\"https://code.visualstudio.com/\" target=\"_blank\"><img src=\"https://github.com/ProdigiousPython/AssetStore/blob/main/Chapters_1-5/Chapter_1/resources/VisualStudio_logo.png?raw=true\" width=100 length=100></img></a>"
   ]
  },
  {
   "cell_type": "markdown",
   "metadata": {},
   "source": [
    "## Atom"
   ]
  },
  {
   "cell_type": "markdown",
   "metadata": {},
   "source": [
    "<a href=\"https://atom.io/\" target=\"_blank\"><img src=\"https://github.com/ProdigiousPython/AssetStore/blob/main/Chapters_1-5/Chapter_1/resources/Atom_logo.png?raw=true\" width=100 length=100></img></a>"
   ]
  },
  {
   "cell_type": "markdown",
   "metadata": {},
   "source": [
    "## Jupyter"
   ]
  },
  {
   "cell_type": "markdown",
   "metadata": {},
   "source": [
    "<a href=\"https://jupyter.org/\" target=\"_blank\"><img src=\"https://github.com/ProdigiousPython/AssetStore/blob/main/Chapters_1-5/Chapter_1/resources/Jupyter_logo.png?raw=true\" width=100 length=100></img></a>"
   ]
  },
  {
   "cell_type": "markdown",
   "metadata": {},
   "source": [
    "## Google Colab"
   ]
  },
  {
   "cell_type": "markdown",
   "metadata": {},
   "source": [
    "This is my personal favourite when I need huge memory and GPU. We get those for free here 😎"
   ]
  },
  {
   "cell_type": "markdown",
   "metadata": {},
   "source": [
    "<a href=\"https://colab.research.google.com\" target=\"_blank\"><img src=\"https://github.com/ProdigiousPython/AssetStore/blob/main/Chapters_1-5/Chapter_1/resources/GoogleColab_logo.png?raw=true\" width=100 length=100></img></a>"
   ]
  },
  {
   "cell_type": "markdown",
   "metadata": {},
   "source": [
    "PS 😉: I always say to prefer using basic text editor like notepad/gedit when learning a new language and use a good IDE if your Boss wants you to do the work quick 😜"
   ]
  }
 ],
 "metadata": {
  "kernelspec": {
   "display_name": "Python 3 (ipykernel)",
   "language": "python",
   "name": "python3"
  },
  "language_info": {
   "codemirror_mode": {
    "name": "ipython",
    "version": 3
   },
   "file_extension": ".py",
   "mimetype": "text/x-python",
   "name": "python",
   "nbconvert_exporter": "python",
   "pygments_lexer": "ipython3",
   "version": "3.9.5"
  }
 },
 "nbformat": 4,
 "nbformat_minor": 4
}
