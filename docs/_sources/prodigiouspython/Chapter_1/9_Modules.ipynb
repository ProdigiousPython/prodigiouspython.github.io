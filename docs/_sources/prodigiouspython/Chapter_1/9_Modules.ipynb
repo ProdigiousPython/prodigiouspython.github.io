{
 "cells": [
  {
   "cell_type": "markdown",
   "metadata": {},
   "source": [
    "# Module"
   ]
  },
  {
   "cell_type": "markdown",
   "metadata": {},
   "source": [
    "A module is a importable python file and can be created by creating a file with extension as `.py`"
   ]
  },
  {
   "cell_type": "markdown",
   "metadata": {},
   "source": [
    "We can import the objects present in the module.\n",
    "\n",
    "In the below 👇 example, we are importing `hello` function from `greet` module (greet.py)"
   ]
  },
  {
   "cell_type": "markdown",
   "metadata": {},
   "source": [
    "`greet.py`\n",
    "\n",
    "```python\n",
    "\"\"\"Module to greet the user\"\"\"\n",
    "\n",
    "import getpass\n",
    "\n",
    "\n",
    "def hello():\n",
    "    \"\"\"Greets the user.\"\"\"\n",
    "    username: str = getpass.getuser().capitalize()\n",
    "    print(f\"Hello {username}. Have a great day :)\")\n",
    "\n",
    "\n",
    "if __name__ == \"__main__\":\n",
    "    hello()\n",
    "\n",
    "```"
   ]
  },
  {
   "cell_type": "code",
   "execution_count": null,
   "metadata": {},
   "outputs": [],
   "source": [
    "from greet import hello"
   ]
  },
  {
   "cell_type": "code",
   "execution_count": null,
   "metadata": {},
   "outputs": [],
   "source": [
    "hello()"
   ]
  },
  {
   "cell_type": "markdown",
   "metadata": {},
   "source": [
    "let's have a look at the greet.py module.\n",
    "Well, we see the below `if` condition.\n",
    "```Python\n",
    "if __name__ == \"__main__\":\n",
    "    hello()\n",
    "```\n",
    "\n",
    "But why do we we need to have it🤔? We can just call the `hello` function at the end as \n",
    "\n",
    "```Python\n",
    "hello()\n",
    "```\n",
    "\n",
    "Let's see the below👇 code to know why we use the first approach rather than the second.🙃\n"
   ]
  },
  {
   "cell_type": "code",
   "execution_count": null,
   "metadata": {},
   "outputs": [],
   "source": [
    "import greet"
   ]
  },
  {
   "cell_type": "markdown",
   "metadata": {},
   "source": [
    "🔍 The above code doesn't greet you 😢"
   ]
  },
  {
   "cell_type": "code",
   "execution_count": null,
   "metadata": {},
   "outputs": [],
   "source": [
    "%run ./greet.py"
   ]
  },
  {
   "cell_type": "markdown",
   "metadata": {},
   "source": [
    "But, this above code greets you😎.\n",
    "\n",
    "The reason for this is, in the first snippet, we are importing a module called `greet`, so the actual code we are executing is in this REPL or Ipython shell. \n",
    "\n",
    "Coming to second snippet, we are executing the `greet.py` directly.\n",
    "\n",
    "\n",
    "Value of `__name__` would be \"\\_\\_main\\_\\_\" if we are executing a Python module directly. If we import a module(using the module indirectly) then value of `__name__` would be the relative path of the imported module. In the first example the `__name__` in the greet module would be \"greet\". As the \"greet\" is not equal to \"\\_\\_main\\_\\_\", that's the reason, we never went to the `if` condition when we imported greet module. 🙂"
   ]
  }
 ],
 "metadata": {
  "kernelspec": {
   "display_name": "Python 3 (ipykernel)",
   "language": "python",
   "name": "python3"
  },
  "language_info": {
   "codemirror_mode": {
    "name": "ipython",
    "version": 3
   },
   "file_extension": ".py",
   "mimetype": "text/x-python",
   "name": "python",
   "nbconvert_exporter": "python",
   "pygments_lexer": "ipython3",
   "version": "3.9.5"
  }
 },
 "nbformat": 4,
 "nbformat_minor": 4
}
