{
 "cells": [
  {
   "cell_type": "markdown",
   "metadata": {},
   "source": [
    "# Installing packages"
   ]
  },
  {
   "cell_type": "markdown",
   "metadata": {},
   "source": [
    "Python has one of the largest programming community who build 3rd party packages and support community help ❤️.\n",
    "\n",
    "That's pretty good, Now, how do we install the packages 🤔? We could use Python's package manager **PIP**."
   ]
  },
  {
   "cell_type": "markdown",
   "metadata": {},
   "source": [
    "Python's official 3rd party package repository is [Python Package Index (PyPI)](https://pypi.org/) and its index url is https://pypi.org/simple\n",
    "\n",
    "Here's how to use PIP in shell/terminal:\n",
    "\n",
    "\n",
    "To search for a package:\n",
    "\n",
    "```shell\n",
    "pip search [package name]\n",
    "```"
   ]
  },
  {
   "cell_type": "markdown",
   "metadata": {},
   "source": [
    "To install a package:\n",
    "Install\n",
    "```shell\n",
    "    pip install [package name]\n",
    "```\n",
    "\n",
    "Install a specific version\n",
    "\n",
    "```shell\n",
    "    pip install [package name]==[version]\n",
    "```\n",
    "\n",
    "Install greater than a specific version\n",
    "\n",
    "```shell\n",
    "    pip install [package name]>=[verion]\n",
    "```"
   ]
  },
  {
   "cell_type": "markdown",
   "metadata": {},
   "source": [
    "To uninstall a package\n",
    "\n",
    "```shell\n",
    "pip uninstall [package name]\n",
    "```"
   ]
  },
  {
   "cell_type": "markdown",
   "metadata": {},
   "source": [
    "## Tidbits 🔔"
   ]
  },
  {
   "cell_type": "markdown",
   "metadata": {},
   "source": [
    "There are modern ways of managing the dependencies using [Poetry](https://python-poetry.org/), [Flit](https://flit.readthedocs.io/en/latest/index.html) etc.. We will get to those soon...😊"
   ]
  }
 ],
 "metadata": {
  "kernelspec": {
   "display_name": "Python 3 (ipykernel)",
   "language": "python",
   "name": "python3"
  },
  "language_info": {
   "codemirror_mode": {
    "name": "ipython",
    "version": 3
   },
   "file_extension": ".py",
   "mimetype": "text/x-python",
   "name": "python",
   "nbconvert_exporter": "python",
   "pygments_lexer": "ipython3",
   "version": "3.9.5"
  }
 },
 "nbformat": 4,
 "nbformat_minor": 4
}
