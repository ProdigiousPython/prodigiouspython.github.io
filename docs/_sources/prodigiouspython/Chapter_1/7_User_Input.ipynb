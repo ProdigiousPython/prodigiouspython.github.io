{
 "cells": [
  {
   "cell_type": "markdown",
   "metadata": {},
   "source": [
    "# User Input"
   ]
  },
  {
   "cell_type": "markdown",
   "metadata": {},
   "source": [
    "`input` is a builtin function in Python, which prompts for the user to enter as standard input unto newline(`\\n`).\n",
    "\n",
    "`input` function always returns a string datatype, we need to typecast to respective datatype required.\n",
    "\n",
    "Python 2.x's `input` is different from Python 3.x's `input`.\n",
    "\n",
    "Python 2.x's `input` evaluates the string as a python command, like `eval(input())`."
   ]
  },
  {
   "cell_type": "markdown",
   "metadata": {},
   "source": [
    "```Python\n",
    "user_entered = input(\"Hey Pythonist! Please enter anything: \\n>>>\")\n",
    "print(f\"The input entered is {user_entered}\")\n",
    "```"
   ]
  },
  {
   "cell_type": "markdown",
   "metadata": {},
   "source": [
    "```\n",
    "Hello Python!\n",
    "The input entered is Hello Python!\n",
    "```"
   ]
  },
  {
   "cell_type": "markdown",
   "metadata": {},
   "source": [
    "Let's try typecasting to integers we got from the user. \n",
    "\n",
    "If the input is not a valid integer value, typecasting to integer raises `ValueError`"
   ]
  },
  {
   "cell_type": "markdown",
   "metadata": {},
   "source": [
    "```Python\n",
    "try:\n",
    "    variable_1 = input(\"Enter variable 1 to be added: \\n>>>\")  # string\n",
    "    variable_2 = input(\"Enter variable 2 to be added \\n>>>\")  # string\n",
    "    integer_1 = int(variable_1)  # Typecasting to integer\n",
    "    integer_2 = int(variable_2)  # Typecasting to integer\n",
    "    print(f\"sum of {variable_1} and {variable_2} = {integer_1+integer_2}\")\n",
    "except ValueError as exc:\n",
    "    print(f\"👻 unable to typecast to integer: {exc}\")\n",
    "```"
   ]
  },
  {
   "cell_type": "markdown",
   "metadata": {},
   "source": [
    "`output`"
   ]
  },
  {
   "cell_type": "markdown",
   "metadata": {},
   "source": [
    "```\n",
    ">>>I am a string 😈\n",
    ">>>I am also a string 😈\n",
    "👻 unable to typecast to integer: invalid literal for int() with base 10: 'I am a string 😈'\n",
    "```"
   ]
  }
 ],
 "metadata": {
  "kernelspec": {
   "display_name": "Python 3 (ipykernel)",
   "language": "python",
   "name": "python3"
  },
  "language_info": {
   "codemirror_mode": {
    "name": "ipython",
    "version": 3
   },
   "file_extension": ".py",
   "mimetype": "text/x-python",
   "name": "python",
   "nbconvert_exporter": "python",
   "pygments_lexer": "ipython3",
   "version": "3.9.5"
  }
 },
 "nbformat": 4,
 "nbformat_minor": 4
}
