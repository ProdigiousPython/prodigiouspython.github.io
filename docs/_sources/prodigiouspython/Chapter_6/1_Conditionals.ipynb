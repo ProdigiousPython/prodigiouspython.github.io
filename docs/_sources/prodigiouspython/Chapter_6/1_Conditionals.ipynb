{
 "cells": [
  {
   "cell_type": "markdown",
   "id": "fae9b736-ea7d-4e0f-a6a5-a2009302eae2",
   "metadata": {},
   "source": [
    "# Conditionals"
   ]
  },
  {
   "cell_type": "markdown",
   "id": "8b935ca2-2204-41a6-9f2f-0b998b2daa64",
   "metadata": {},
   "source": [
    "Conditionals help us to change the flow of the code at the runtime. The three conditional keywords are `if`, `else`, `elif`."
   ]
  },
  {
   "cell_type": "markdown",
   "id": "b0c152d0-e85f-4083-8746-b98025301e6c",
   "metadata": {},
   "source": [
    "Here's again we need to praise the readability 🙂, `if`, `else`, `elif` are pretty english words, just that elif is the short-hand keyword of else-if."
   ]
  },
  {
   "cell_type": "markdown",
   "id": "d3077cd5-6797-478a-947d-fab5ef44eda7",
   "metadata": {},
   "source": [
    "Let's start with the `if` condition... "
   ]
  },
  {
   "cell_type": "markdown",
   "id": "74c3db64-f648-47db-84fc-5961b1659b52",
   "metadata": {},
   "source": [
    "## `if`"
   ]
  },
  {
   "cell_type": "markdown",
   "id": "8d98f19e-1ee7-4a98-a44b-f057e95eb97e",
   "metadata": {},
   "source": [
    "The syntax of `if` is:"
   ]
  },
  {
   "cell_type": "markdown",
   "id": "f00c5814-ce96-433a-a62b-39ec3febaa55",
   "metadata": {},
   "source": [
    "```Python\n",
    "if <expression>:\n",
    "    # Do stuff here.\n",
    "    ...\n",
    "```"
   ]
  },
  {
   "cell_type": "markdown",
   "id": "1803cfd0-d6ba-404f-9890-7109b71145ef",
   "metadata": {},
   "source": [
    "In the earlier chapters, we have learnt about `Truth value testing`, `if` absolutely works based on the truth value of the operand."
   ]
  },
  {
   "cell_type": "markdown",
   "id": "ff1ee370-4810-4600-8c10-65e6fe369759",
   "metadata": {},
   "source": [
    "If the expression results in Truth value equivalent to `True`, then our interpreter gets into the block of code written in the `if` block, else it skips the `if` block."
   ]
  },
  {
   "cell_type": "code",
   "execution_count": null,
   "id": "de0626af-c7a9-4e3a-829a-92f10981ba5a",
   "metadata": {},
   "outputs": [],
   "source": [
    "if 3 > 1:\n",
    "    print(\"Yup!, 3 is greater than 1\")"
   ]
  },
  {
   "cell_type": "markdown",
   "id": "3fa3a58c-177c-4c50-94ab-e0661e26f236",
   "metadata": {},
   "source": [
    "`One more:`"
   ]
  },
  {
   "cell_type": "code",
   "execution_count": null,
   "id": "83f667ee-db56-4da2-9056-5df19ba230e7",
   "metadata": {},
   "outputs": [],
   "source": [
    "# Just for demonstration, we are doing a bit long way.\n",
    "tuple_1 = (3, 2, 1)\n",
    "tuple_2 = (1, 2, 3)\n",
    "\n",
    "result = tuple_1 > tuple_2\n",
    "print(f\"The result is {result}\")\n",
    "if result:\n",
    "    print(\"tuple_1 is greater than tuple_2\")\n",
    "\n",
    "result_2 = tuple_1 < tuple_2\n",
    "print(f\"The result_2 is {result_2}\")\n",
    "if result_2:\n",
    "    print(\"😬 The interpreter doesn't run this code\")"
   ]
  },
  {
   "cell_type": "markdown",
   "id": "c2579132-8a3a-4d12-bb95-4b5c311d738c",
   "metadata": {},
   "source": [
    "In the above example, we can see that `result` value is `True` which made the `if` condition satisfy and the print function saying `tuple_1 is greater than tuple_2` is executed, but our `result_2` value is `False`, and hence the print function in the second `if` condition didn't get executed as we thought 😊."
   ]
  },
  {
   "cell_type": "markdown",
   "id": "4da26941-b44d-4b2e-b30d-3b99c61d67c5",
   "metadata": {},
   "source": [
    "`On a list containing few objects`"
   ]
  },
  {
   "cell_type": "code",
   "execution_count": null,
   "id": "3fb5d6dc-673c-4fe8-8ace-fcf028b70048",
   "metadata": {},
   "outputs": [],
   "source": [
    "my_list = [1, 2, None, \"abc\", \"🐍\"]\n",
    "if my_list:\n",
    "    print(\"I am inside of the if block\")"
   ]
  },
  {
   "cell_type": "markdown",
   "id": "f69bcd9e-8e21-4e25-aa08-ddbce2ef71e3",
   "metadata": {},
   "source": [
    "We see that the print function is executed as the Truth value of list containing objects is `True`."
   ]
  },
  {
   "cell_type": "markdown",
   "id": "fb37d941-3a8b-40a0-b48a-22830e5aba21",
   "metadata": {},
   "source": [
    "`On empty list`"
   ]
  },
  {
   "cell_type": "code",
   "execution_count": null,
   "id": "94f650fa-861a-47d9-a6d5-86c6fe380cc4",
   "metadata": {},
   "outputs": [],
   "source": [
    "empty_list = []\n",
    "if empty_list:\n",
    "    print(\"Nah! I won't get executed\")"
   ]
  },
  {
   "cell_type": "markdown",
   "id": "67a3ebdc-d898-4aeb-af26-64e81ca5985d",
   "metadata": {},
   "source": [
    "We see there's no output generated in the above example, as Truth value of empty list is `False`."
   ]
  },
  {
   "cell_type": "markdown",
   "id": "f7d6d8f5-bc4b-426e-8929-06efbc89c598",
   "metadata": {},
   "source": [
    "```{hint}\n",
    "Truth value of an object can be found using `bool(<obj>)`.\n",
    "```"
   ]
  },
  {
   "cell_type": "markdown",
   "id": "d29a333f-6408-4e60-815d-758be7ba0377",
   "metadata": {},
   "source": [
    "## `elif`"
   ]
  },
  {
   "cell_type": "markdown",
   "id": "c2b7d506-4be9-40e2-bc88-ea35c3326801",
   "metadata": {},
   "source": [
    "The `elif` is a short hand of `else-if`, if the `if` condition written above the `elif` gets Falsy condition, then only the interpreter gets to the `elif` block. There could be 0 or any number of `elif` conditions."
   ]
  },
  {
   "cell_type": "code",
   "execution_count": null,
   "id": "107138aa-1d97-4dcf-b779-f1ec2beafcf4",
   "metadata": {},
   "outputs": [],
   "source": [
    "if 3 > 4:\n",
    "    print(\n",
    "        \"3 is greater than 4! 😅\"\n",
    "    )  # This wouldn't get executed as 3 is not greater than 4.\n",
    "elif 4 > 3:\n",
    "    print(\"4 is greater than 3! 😊\")"
   ]
  },
  {
   "cell_type": "markdown",
   "id": "326f4550-f0cd-47dd-83ea-e6972a7686d5",
   "metadata": {},
   "source": [
    "## `else`"
   ]
  },
  {
   "cell_type": "markdown",
   "id": "bbe708d7-76e2-4d64-a06e-c7b14d2644f8",
   "metadata": {
    "tags": []
   },
   "source": [
    "`else` condition doesn't have a condition statement, it works if the above `if` or `elif` doesn't gets executed as the conditional statement in it has falsy values."
   ]
  },
  {
   "cell_type": "code",
   "execution_count": null,
   "id": "d1161c75-81ad-463c-8977-97370afd7532",
   "metadata": {},
   "outputs": [],
   "source": [
    "if 1 > 2:\n",
    "    print(\"1 is greater than 2\")  # doesn't gets executed as 1>2 is False.\n",
    "elif 3 > 4:\n",
    "    print(\"3 is greater than 4\")  # doesn't gets executed as well as 3>4 is False.\n",
    "else:\n",
    "    print(\"Hey! I am inside else condition!\")"
   ]
  },
  {
   "cell_type": "markdown",
   "id": "be7c92a8-261e-4dd7-95a1-9452762f2100",
   "metadata": {},
   "source": [
    "## TLDR about `if`, `else`, `elif`"
   ]
  },
  {
   "cell_type": "markdown",
   "id": "f4521d6a-4b10-40a1-a91b-b921c9ba8ada",
   "metadata": {},
   "source": [
    "Using all the `if`, `else` and `elif` together:"
   ]
  },
  {
   "cell_type": "markdown",
   "id": "f52b93a9-435c-4551-bb80-e6849bf20163",
   "metadata": {},
   "source": [
    "```Python\n",
    "if <condition 1>:\n",
    "    ...\n",
    "elif <condition 2>:\n",
    "    ...\n",
    "else:\n",
    "    ...\n",
    "```"
   ]
  },
  {
   "cell_type": "markdown",
   "id": "77227606-905b-4799-bbec-984a6adf656c",
   "metadata": {},
   "source": [
    "### Points to remember:"
   ]
  },
  {
   "cell_type": "markdown",
   "id": "5d8f4ff5-a53a-4d98-9e85-91115d2bc4dd",
   "metadata": {},
   "source": [
    "* There can be any number of `if` conditions. \n",
    "* There can be any number of `elif` conditions too, just that they should be after the `if` or `elif` condition. "
   ]
  },
  {
   "cell_type": "markdown",
   "id": "bcc90d5b-a5cb-48b1-a785-2d633898c3a6",
   "metadata": {},
   "source": [
    "We can even write a if else expression in a single statement. "
   ]
  },
  {
   "cell_type": "markdown",
   "id": "3ed64a75-458c-47e4-b6a0-ff2adcce89d0",
   "metadata": {},
   "source": [
    "Let's find if a number is even or odd"
   ]
  },
  {
   "cell_type": "code",
   "execution_count": null,
   "id": "df2fe134-8fcd-4a8e-b162-e8ce68b0a9b7",
   "metadata": {},
   "outputs": [],
   "source": [
    "value = 4\n",
    "if value % 2 == 0:\n",
    "    is_even = True\n",
    "else:\n",
    "    is_even = False\n",
    "print(is_even)"
   ]
  },
  {
   "cell_type": "markdown",
   "id": "900abc85-70d9-4b42-a561-375554a9517c",
   "metadata": {},
   "source": [
    "The above if-else conditions can be written in a single line using if-else statements as:"
   ]
  },
  {
   "cell_type": "code",
   "execution_count": null,
   "id": "256d4c8e-1d70-40a1-955d-50bc31e2fc6e",
   "metadata": {},
   "outputs": [],
   "source": [
    "value = 4\n",
    "is_even = True if value % 2 == 0 else False  # single line if-else statement.\n",
    "print(is_even)"
   ]
  },
  {
   "cell_type": "markdown",
   "id": "868a233e-c1c8-42e6-9499-bfbfca6d85b5",
   "metadata": {},
   "source": [
    "## `match-case`"
   ]
  },
  {
   "cell_type": "markdown",
   "id": "ef3cc1b5-4ed6-4e4d-a7b5-1cd804394564",
   "metadata": {},
   "source": [
    "Python developers have been asking for the switch case statements since ages which is available in other languages, Alternatively most programmers used dictionary for switch casing:"
   ]
  },
  {
   "cell_type": "markdown",
   "id": "dd39ddd7-8355-46c4-9ee8-e08eff2869f5",
   "metadata": {},
   "source": [
    "Current alternate way of simple switch-case in Python:"
   ]
  },
  {
   "cell_type": "code",
   "execution_count": null,
   "id": "dc3bc08a-8747-48b6-ac2a-46fd770774c4",
   "metadata": {},
   "outputs": [],
   "source": [
    "def int_1():\n",
    "    print(\"I am integer one\")\n",
    "\n",
    "\n",
    "def int_2():\n",
    "    print(\"I am integer two\")\n",
    "\n",
    "\n",
    "def python():\n",
    "    print(\"I am one of the great programming language 🐍!\")\n",
    "\n",
    "\n",
    "my_dict = {\n",
    "    1: int_1,\n",
    "    2: int_2,\n",
    "    \"Python\": python,\n",
    "}"
   ]
  },
  {
   "cell_type": "markdown",
   "id": "f2894658-b637-4237-9b0e-e732aeebcfeb",
   "metadata": {},
   "source": [
    "In the above code, we have written 3 functions `int_1`, `int_2` and `python`, each function has a print statement, which in real world applications can be any code. We created a dictionary called `my_dict` which has keys as `1`, `2`, `Python` and those keys have values as function objects `int_1`, `int_2` and `python` respectively. **Note**: We are not calling the functions."
   ]
  },
  {
   "cell_type": "code",
   "execution_count": null,
   "id": "20b6d1c3-1a8e-44c9-b31c-bc88bde45748",
   "metadata": {},
   "outputs": [],
   "source": [
    "try:\n",
    "    func = my_dict[1]  # Getting the function object.\n",
    "    func()  # Executing the function object.\n",
    "    func = my_dict[2]\n",
    "    func()\n",
    "    func = my_dict[\"Python\"]\n",
    "    func()\n",
    "    func = my_dict[\n",
    "        \"Random Key\"\n",
    "    ]  # We don't have a key called \"Random Key\". Hence, it raises KeyError.\n",
    "except KeyError as exc:\n",
    "    print(f\"Ouch, there is no switch for the value: {exc}\")"
   ]
  },
  {
   "cell_type": "markdown",
   "id": "097911fd-7a96-4921-aebe-34922fe1b8ab",
   "metadata": {},
   "source": [
    "We are trying to get the values in the dictionary using the key provided, so, for the keys `1`, `2` and `Python` we are successfully able to get the function object and able to call the function. "
   ]
  },
  {
   "cell_type": "markdown",
   "id": "cfdd3b49-3348-4563-a587-237fd49ef004",
   "metadata": {},
   "source": [
    "We don't have a key called `Random Key` in our `my_dict`, so, while trying `my_dict[\"Random Key\"]` we are seeing the `KeyError` being raised. We can catch the `KeyError` and this block can have the code equivalent to `default` case of other languages 😊."
   ]
  },
  {
   "cell_type": "markdown",
   "id": "4f00d3c9-8b60-45df-8faa-a21ba2be459b",
   "metadata": {},
   "source": [
    "### 💡"
   ]
  },
  {
   "cell_type": "markdown",
   "id": "eb61b6f6-c579-46f5-9c22-1d003f58ca65",
   "metadata": {},
   "source": [
    "No worries! Python community has listened to our asks and provided match-case in Python 3.10 🚀"
   ]
  }
 ],
 "metadata": {
  "kernelspec": {
   "display_name": "Python 3 (ipykernel)",
   "language": "python",
   "name": "python3"
  },
  "language_info": {
   "codemirror_mode": {
    "name": "ipython",
    "version": 3
   },
   "file_extension": ".py",
   "mimetype": "text/x-python",
   "name": "python",
   "nbconvert_exporter": "python",
   "pygments_lexer": "ipython3",
   "version": "3.9.5"
  }
 },
 "nbformat": 4,
 "nbformat_minor": 5
}
