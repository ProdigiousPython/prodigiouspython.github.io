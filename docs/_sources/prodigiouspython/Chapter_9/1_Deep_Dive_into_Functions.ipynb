{
 "cells": [
  {
   "cell_type": "markdown",
   "id": "68a8aff3-c32d-43f9-9d37-59d1a6dd0229",
   "metadata": {},
   "source": [
    "# Deep Dive into Functions"
   ]
  },
  {
   "cell_type": "markdown",
   "id": "ea475eb9-f76f-455f-a204-65e145be21e3",
   "metadata": {},
   "source": [
    "In the earlier chapter, we have touched about functions, function arguments, types of function arguments 😊. Now, it's time for a little deep dive into functions 🏊."
   ]
  },
  {
   "cell_type": "markdown",
   "id": "e918d7c7-82ac-4456-b198-709c4dd0312e",
   "metadata": {},
   "source": [
    "## Unpacking returned attributes"
   ]
  },
  {
   "cell_type": "markdown",
   "id": "21de74d4-f840-4518-b75d-45fdc1722877",
   "metadata": {},
   "source": [
    "## Map"
   ]
  },
  {
   "cell_type": "markdown",
   "id": "458eaf56-8755-4399-b902-a602b99092f0",
   "metadata": {},
   "source": [
    "## Reduce"
   ]
  },
  {
   "cell_type": "markdown",
   "id": "3158a394-5124-4dde-a291-33fa3b40df8b",
   "metadata": {},
   "source": [
    "## Filter"
   ]
  },
  {
   "cell_type": "markdown",
   "id": "1a386561-90ce-4971-b712-78228820df75",
   "metadata": {},
   "source": [
    "## Partial"
   ]
  },
  {
   "cell_type": "markdown",
   "id": "b0998d53-3bee-4045-a6ec-b7c04754b00a",
   "metadata": {},
   "source": [
    "## Closure"
   ]
  },
  {
   "cell_type": "markdown",
   "id": "8b87cb9f-6f05-430a-a42a-ee0c26e57d01",
   "metadata": {},
   "source": [
    "## Recursive Functions"
   ]
  },
  {
   "cell_type": "markdown",
   "id": "e903dfb3-4f7c-4511-905a-3804a15621ba",
   "metadata": {},
   "source": [
    "## Recursion Limit"
   ]
  },
  {
   "cell_type": "markdown",
   "id": "5ff65976-48f9-4476-b665-c2047422bc49",
   "metadata": {},
   "source": [
    "## Decorators"
   ]
  },
  {
   "cell_type": "markdown",
   "id": "3bd237c0-b3aa-4095-be4c-2d9106124636",
   "metadata": {},
   "source": [
    "## Generators"
   ]
  }
 ],
 "metadata": {
  "kernelspec": {
   "display_name": "Python 3 (ipykernel)",
   "language": "python",
   "name": "python3"
  },
  "language_info": {
   "codemirror_mode": {
    "name": "ipython",
    "version": 3
   },
   "file_extension": ".py",
   "mimetype": "text/x-python",
   "name": "python",
   "nbconvert_exporter": "python",
   "pygments_lexer": "ipython3",
   "version": "3.9.7"
  }
 },
 "nbformat": 4,
 "nbformat_minor": 5
}
